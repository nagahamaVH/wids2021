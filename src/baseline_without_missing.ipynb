{
 "cells": [
  {
   "cell_type": "code",
   "execution_count": null,
   "id": "standard-aging",
   "metadata": {},
   "outputs": [],
   "source": [
    "import numpy as np\n",
    "import pandas as pd\n",
    "import cudf\n",
    "from preprocessing_tools import drop_missing_train_test\n",
    "import xgboost as xgb"
   ]
  },
  {
   "cell_type": "code",
   "execution_count": null,
   "id": "sought-retrieval",
   "metadata": {},
   "outputs": [],
   "source": [
    "train = cudf.read_csv(\"../data/TrainingWiDS2021.csv\", index_col=0)\n",
    "print(train.shape)\n",
    "train.head()"
   ]
  },
  {
   "cell_type": "code",
   "execution_count": null,
   "id": "touched-error",
   "metadata": {
    "scrolled": true
   },
   "outputs": [],
   "source": [
    "test = cudf.read_csv(\"../data/UnlabeledWiDS2021.csv\", index_col=0)\n",
    "print(test.shape)\n",
    "test.head()"
   ]
  },
  {
   "cell_type": "markdown",
   "id": "tropical-arrangement",
   "metadata": {},
   "source": [
    "## Split x and y data, excluding identifier and response columns"
   ]
  },
  {
   "cell_type": "code",
   "execution_count": null,
   "id": "sudden-commercial",
   "metadata": {},
   "outputs": [],
   "source": [
    "x_train = train.copy().drop([\"encounter_id\", \"diabetes_mellitus\"], axis=1)\n",
    "y_train = train.loc[:, \"diabetes_mellitus\"]\n",
    "\n",
    "x_test = test.copy().drop([\"encounter_id\"], axis=1)"
   ]
  },
  {
   "cell_type": "code",
   "execution_count": null,
   "id": "south-queen",
   "metadata": {},
   "outputs": [],
   "source": [
    "%%time\n",
    "x_train, x_test = drop_missing_train_test(x_train, x_test)"
   ]
  },
  {
   "cell_type": "markdown",
   "id": "unknown-austria",
   "metadata": {},
   "source": [
    "## Encode categorical columns"
   ]
  },
  {
   "cell_type": "code",
   "execution_count": null,
   "id": "diagnostic-restriction",
   "metadata": {},
   "outputs": [],
   "source": [
    "categorical_cols = x_train.columns[x_train.dtypes == \"object\"].values\n",
    "\n",
    "x_train_categorical = x_train.copy()[categorical_cols]\n",
    "x_test_categorical = x_test.copy()[categorical_cols]\n",
    "\n",
    "train_size = x_train.shape[0]\n",
    "test_size = x_test.shape[0]\n",
    "\n",
    "categorical = cudf.concat([x_train_categorical, x_test_categorical], axis=0)\n",
    "categorical = cudf.get_dummies(categorical)\n",
    "\n",
    "x_train_categorical = categorical.head(train_size)\n",
    "x_test_categorical = categorical.tail(test_size)"
   ]
  },
  {
   "cell_type": "code",
   "execution_count": null,
   "id": "composite-communications",
   "metadata": {},
   "outputs": [],
   "source": [
    "x_train_numerical = x_train.copy().drop(categorical_cols, axis=1)\n",
    "x_train = cudf.concat([x_train_numerical, x_train_categorical], axis=1)\n",
    "\n",
    "x_test_numerical = x_test.copy().drop(categorical_cols, axis=1)\n",
    "x_test = cudf.concat([x_test_numerical, x_test_categorical], axis=1)"
   ]
  },
  {
   "cell_type": "markdown",
   "id": "aboriginal-cotton",
   "metadata": {},
   "source": [
    "## Create DMatrix for xgboost"
   ]
  },
  {
   "cell_type": "code",
   "execution_count": null,
   "id": "automotive-intelligence",
   "metadata": {
    "scrolled": true
   },
   "outputs": [],
   "source": [
    "train_dmatrix = xgb.DMatrix(x_train, label=y_train)\n",
    "test_dmatrix = xgb.DMatrix(x_test)"
   ]
  },
  {
   "cell_type": "markdown",
   "id": "tested-financing",
   "metadata": {},
   "source": [
    "## XGBoost model"
   ]
  },
  {
   "cell_type": "code",
   "execution_count": null,
   "id": "balanced-patrol",
   "metadata": {},
   "outputs": [],
   "source": [
    "params = {\"objective\": \"binary:logistic\", \n",
    "          \"max_depth\": 20,\n",
    "          \"max_leaves\": 15,\n",
    "          \"tree_method\": \"gpu_hist\"}\n",
    "\n",
    "model = xgb.train(params, train_dmatrix, num_boost_round=120)"
   ]
  },
  {
   "cell_type": "code",
   "execution_count": null,
   "id": "happy-straight",
   "metadata": {},
   "outputs": [],
   "source": [
    "pred = model.predict(test_dmatrix)"
   ]
  },
  {
   "cell_type": "code",
   "execution_count": null,
   "id": "female-satisfaction",
   "metadata": {},
   "outputs": [],
   "source": [
    "feature_importance = pd.DataFrame(model.get_score(importance_type='gain').items(), columns=[\"variable\", \"score\"])\n",
    "feature_importance.sort_values(\"score\", ascending=False, inplace=True)\n",
    "feature_importance.head(10)"
   ]
  },
  {
   "cell_type": "code",
   "execution_count": null,
   "id": "optional-genre",
   "metadata": {},
   "outputs": [],
   "source": [
    "submission = test.loc[:, [\"encounter_id\"]]\n",
    "submission[\"diabetes_mellitus\"] = pred\n",
    "submission.to_csv(\"../submissions/baseline_without_missing.csv\", index=False)"
   ]
  }
 ],
 "metadata": {
  "kernelspec": {
   "display_name": "Python [conda env:wids2021] *",
   "language": "python",
   "name": "conda-env-wids2021-py"
  },
  "language_info": {
   "codemirror_mode": {
    "name": "ipython",
    "version": 3
   },
   "file_extension": ".py",
   "mimetype": "text/x-python",
   "name": "python",
   "nbconvert_exporter": "python",
   "pygments_lexer": "ipython3",
   "version": "3.7.9"
  }
 },
 "nbformat": 4,
 "nbformat_minor": 5
}