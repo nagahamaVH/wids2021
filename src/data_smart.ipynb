{
 "cells": [
  {
   "cell_type": "markdown",
   "id": "unavailable-aside",
   "metadata": {},
   "source": [
    "# Data smart\n",
    "- Drop variables with too much missing\n",
    "- Imputation based on domain knowledge\n",
    "- Drop correlated features"
   ]
  },
  {
   "cell_type": "code",
   "execution_count": null,
   "id": "closed-rugby",
   "metadata": {},
   "outputs": [],
   "source": [
    "import cudf\n",
    "import pandas as pd\n",
    "import numpy as np\n",
    "import pickle\n",
    "from sklearn.model_selection import train_test_split\n",
    "from sklearn.impute import KNNImputer\n",
    "from preprocessing_tools import drop_missing_train_test, get_top_abs_correlations, encoder_train_test"
   ]
  },
  {
   "cell_type": "code",
   "execution_count": null,
   "id": "manufactured-catering",
   "metadata": {},
   "outputs": [],
   "source": [
    "train = pd.read_csv(\"../data/TrainingWiDS2021.csv\", index_col=0)\n",
    "test = pd.read_csv(\"../data/UnlabeledWiDS2021.csv\", index_col=0)"
   ]
  },
  {
   "cell_type": "code",
   "execution_count": null,
   "id": "identified-flavor",
   "metadata": {},
   "outputs": [],
   "source": [
    "with open(\"../data/exam_cols.pkl\", \"rb\") as f:\n",
    "    exams_cols = pickle.load(f)\n",
    "\n",
    "# with open(\"../data/data_fe.pkl\", \"rb\") as f:\n",
    "#     data = pickle.load(f)\n",
    "\n",
    "# train = data[\"train\"]\n",
    "# test = data[\"test\"]"
   ]
  },
  {
   "cell_type": "markdown",
   "id": "legendary-elephant",
   "metadata": {},
   "source": [
    "## Split data in covariables and response"
   ]
  },
  {
   "cell_type": "code",
   "execution_count": null,
   "id": "exposed-medium",
   "metadata": {},
   "outputs": [],
   "source": [
    "RESPONSE_COL = \"diabetes_mellitus\"\n",
    "DROP_X_COLS = [\"readmission_status\", \"encounter_id\", \"hospital_id\"]\n",
    "\n",
    "x_train_val = train.copy().drop(np.append(DROP_X_COLS, RESPONSE_COL), axis=1)\n",
    "y_train_val = train.loc[:, RESPONSE_COL]\n",
    "\n",
    "x_test = test.copy().drop(DROP_X_COLS, axis=1)"
   ]
  },
  {
   "cell_type": "markdown",
   "id": "signal-class",
   "metadata": {},
   "source": [
    "## Drop missing"
   ]
  },
  {
   "cell_type": "code",
   "execution_count": null,
   "id": "black-single",
   "metadata": {},
   "outputs": [],
   "source": [
    "MISSING_TRESH = 0.5\n",
    "\n",
    "x_train_val, x_test = drop_missing_train_test(x_train_val, x_test, treshold=MISSING_TRESH)"
   ]
  },
  {
   "cell_type": "markdown",
   "id": "engaging-record",
   "metadata": {},
   "source": [
    "## Encoding categorical"
   ]
  },
  {
   "cell_type": "code",
   "execution_count": null,
   "id": "lovely-catch",
   "metadata": {},
   "outputs": [],
   "source": [
    "%%time\n",
    "x_train_val, x_test, string_cols_le = encoder_train_test(x_train_val, x_test)\n",
    "x_train_val = x_train_val.to_pandas()\n",
    "x_test = x_test.to_pandas()"
   ]
  },
  {
   "cell_type": "markdown",
   "id": "hollywood-captain",
   "metadata": {},
   "source": [
    "## Data imputation based on domain knowledge\n",
    "\n",
    "**Hyphotesis**\n",
    "- For exams variables, nan area not perfomed exams. Imputing with -99 will add the information about non performed exams\n",
    "- Physical atributes as age, bmi, height, gender and weight can be use to impute themselfs\n",
    "- Categorical variables let's keep the effect of nan using -99"
   ]
  },
  {
   "cell_type": "markdown",
   "id": "received-junior",
   "metadata": {},
   "source": [
    "### Phyisical variables (age, bmi, ethnicity, gender, height and weight)"
   ]
  },
  {
   "cell_type": "code",
   "execution_count": null,
   "id": "marked-mistake",
   "metadata": {},
   "outputs": [],
   "source": [
    "physical_cols = [\"age\", \"bmi\", \"ethnicity\", \"gender\", \"height\", \"weight\"]\n",
    "train_physical = x_train_val.loc[:, physical_cols]\n",
    "test_physical = x_test.loc[:, physical_cols]\n",
    "\n",
    "knn_imputer = KNNImputer()\n",
    "knn_imputer.fit(train_physical)"
   ]
  },
  {
   "cell_type": "code",
   "execution_count": null,
   "id": "accompanied-tampa",
   "metadata": {},
   "outputs": [],
   "source": [
    "%%time\n",
    "train_physical_imputed = knn_imputer.transform(train_physical)\n",
    "train_physical_imputed = pd.DataFrame(train_physical_imputed, columns=physical_cols)"
   ]
  },
  {
   "cell_type": "code",
   "execution_count": null,
   "id": "polyphonic-congress",
   "metadata": {},
   "outputs": [],
   "source": [
    "%%time\n",
    "test_physical_imputed = knn_imputer.transform(test_physical)\n",
    "test_physical_imputed = pd.DataFrame(test_physical_imputed, columns=physical_cols)"
   ]
  },
  {
   "cell_type": "markdown",
   "id": "finite-macro",
   "metadata": {},
   "source": [
    "### Exams variables"
   ]
  },
  {
   "cell_type": "code",
   "execution_count": null,
   "id": "royal-privilege",
   "metadata": {},
   "outputs": [],
   "source": [
    "exams_cols = np.intersect1d(exams_cols, x_train_val.columns.tolist())"
   ]
  },
  {
   "cell_type": "code",
   "execution_count": null,
   "id": "precious-muslim",
   "metadata": {},
   "outputs": [],
   "source": [
    "train_exams_imputed = x_train_val.loc[:, exams_cols].fillna(-99)\n",
    "test_exams_imputed = x_test.loc[:, exams_cols].fillna(-99)"
   ]
  },
  {
   "cell_type": "markdown",
   "id": "copyrighted-cambodia",
   "metadata": {},
   "source": [
    "### Other variables"
   ]
  },
  {
   "cell_type": "code",
   "execution_count": null,
   "id": "prepared-layer",
   "metadata": {},
   "outputs": [],
   "source": [
    "others_cols = np.concatenate([physical_cols, exams_cols])"
   ]
  },
  {
   "cell_type": "code",
   "execution_count": null,
   "id": "commercial-shell",
   "metadata": {},
   "outputs": [],
   "source": [
    "x_train_val.drop(others_cols, axis=1).isna().sum()"
   ]
  },
  {
   "cell_type": "code",
   "execution_count": null,
   "id": "advanced-mistress",
   "metadata": {},
   "outputs": [],
   "source": [
    "x_train_val.drop(others_cols, axis=1).isna().sum()"
   ]
  },
  {
   "cell_type": "code",
   "execution_count": null,
   "id": "incomplete-system",
   "metadata": {},
   "outputs": [],
   "source": [
    "train_others_imputed = x_train_val.drop(others_cols, axis=1).fillna(-99)\n",
    "test_others_imputed = x_test.drop(others_cols, axis=1).fillna(-99)"
   ]
  },
  {
   "cell_type": "markdown",
   "id": "handed-calvin",
   "metadata": {},
   "source": [
    "### Merging all imputed"
   ]
  },
  {
   "cell_type": "code",
   "execution_count": null,
   "id": "compact-novelty",
   "metadata": {},
   "outputs": [],
   "source": [
    "x_train_val = pd.concat([train_physical, train_exams_imputed, train_others_imputed], axis=1)\n",
    "x_test = pd.concat([test_physical, test_exams_imputed, test_others_imputed], axis=1)"
   ]
  },
  {
   "cell_type": "markdown",
   "id": "moved-mapping",
   "metadata": {},
   "source": [
    "## Removing correlated features"
   ]
  },
  {
   "cell_type": "code",
   "execution_count": null,
   "id": "pediatric-basic",
   "metadata": {},
   "outputs": [],
   "source": [
    "CORR_TRESH = 0.8\n",
    "\n",
    "corr_info = get_top_abs_correlations(x_train_val, n=10000000)\n",
    "corr_selected = corr_info[corr_info[\"corr_abs\"] >= CORR_TRESH]"
   ]
  },
  {
   "cell_type": "code",
   "execution_count": null,
   "id": "satellite-journalism",
   "metadata": {},
   "outputs": [],
   "source": [
    "to_drop = list(set(corr_selected[\"level_1\"].tolist()))\n",
    "print(len(to_drop), \"columns droped\")\n",
    "x_train_val.drop(to_drop, axis=1, inplace=True)\n",
    "x_test.drop(to_drop, axis=1, inplace=True)"
   ]
  },
  {
   "cell_type": "code",
   "execution_count": null,
   "id": "elect-jungle",
   "metadata": {},
   "outputs": [],
   "source": [
    "SEED = 529\n",
    "TEST_SIZE = 0.2\n",
    "\n",
    "x_train, x_val, y_train, y_val = train_test_split(x_train_val, y_train_val, test_size=TEST_SIZE, random_state=SEED)"
   ]
  },
  {
   "cell_type": "code",
   "execution_count": null,
   "id": "anticipated-plasma",
   "metadata": {},
   "outputs": [],
   "source": [
    "data_clean = {\n",
    "    \"x_train_val\": x_train_val,\n",
    "    \"y_train_val\": y_train_val,\n",
    "    \"x_test\": x_test,\n",
    "    \"x_train\": x_train,\n",
    "    \"y_train\": y_train,\n",
    "    \"x_val\": x_val,\n",
    "    \"y_val\": y_val}"
   ]
  },
  {
   "cell_type": "code",
   "execution_count": null,
   "id": "passive-estimate",
   "metadata": {},
   "outputs": [],
   "source": [
    "with open(\"../data/data_remove_redundant_imputed.pkl\", \"wb\") as f:\n",
    "    pickle.dump(data_clean, f)"
   ]
  }
 ],
 "metadata": {
  "kernelspec": {
   "display_name": "Python [conda env:wids2021] *",
   "language": "python",
   "name": "conda-env-wids2021-py"
  },
  "language_info": {
   "codemirror_mode": {
    "name": "ipython",
    "version": 3
   },
   "file_extension": ".py",
   "mimetype": "text/x-python",
   "name": "python",
   "nbconvert_exporter": "python",
   "pygments_lexer": "ipython3",
   "version": "3.7.9"
  }
 },
 "nbformat": 4,
 "nbformat_minor": 5
}
