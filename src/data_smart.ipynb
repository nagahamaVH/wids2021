{
 "cells": [
  {
   "cell_type": "markdown",
   "id": "sticky-married",
   "metadata": {},
   "source": [
    "# Data smart (for tree based methods)\n",
    "- Imputation based on domain knowledge\n",
    "- Imputation with train and test data"
   ]
  },
  {
   "cell_type": "code",
   "execution_count": null,
   "id": "welsh-sharing",
   "metadata": {},
   "outputs": [],
   "source": [
    "import cudf\n",
    "import pandas as pd\n",
    "import numpy as np\n",
    "import pickle\n",
    "from sklearn.model_selection import train_test_split\n",
    "from sklearn.impute import KNNImputer\n",
    "from preprocessing_tools import drop_missing_train_test, get_top_abs_correlations, encoder_train_test"
   ]
  },
  {
   "cell_type": "code",
   "execution_count": null,
   "id": "august-mouse",
   "metadata": {},
   "outputs": [],
   "source": [
    "train = pd.read_csv(\"../data/TrainingWiDS2021.csv\", index_col=0)\n",
    "test = pd.read_csv(\"../data/UnlabeledWiDS2021.csv\", index_col=0)"
   ]
  },
  {
   "cell_type": "code",
   "execution_count": null,
   "id": "driven-japan",
   "metadata": {},
   "outputs": [],
   "source": [
    "with open(\"../data/exam_cols.pkl\", \"rb\") as f:\n",
    "    exams_cols = pickle.load(f)"
   ]
  },
  {
   "cell_type": "code",
   "execution_count": null,
   "id": "later-sport",
   "metadata": {},
   "outputs": [],
   "source": [
    "# with open(\"../data/data_fe.pkl\", \"rb\") as f:\n",
    "#     data = pickle.load(f)\n",
    "\n",
    "# train = data[\"train\"]\n",
    "# test = data[\"test\"]"
   ]
  },
  {
   "cell_type": "markdown",
   "id": "universal-maine",
   "metadata": {},
   "source": [
    "## Split data in covariables and response"
   ]
  },
  {
   "cell_type": "code",
   "execution_count": null,
   "id": "fifty-collaboration",
   "metadata": {},
   "outputs": [],
   "source": [
    "RESPONSE_COL = \"diabetes_mellitus\"\n",
    "DROP_X_COLS = [\"readmission_status\", \"encounter_id\", \"hospital_id\"]\n",
    "\n",
    "x_train_val = train.copy().drop(np.append(DROP_X_COLS, RESPONSE_COL), axis=1)\n",
    "y_train_val = train.loc[:, RESPONSE_COL]\n",
    "\n",
    "x_test = test.copy().drop(DROP_X_COLS, axis=1)"
   ]
  },
  {
   "cell_type": "markdown",
   "id": "scenic-principle",
   "metadata": {},
   "source": [
    "## Encoding categorical"
   ]
  },
  {
   "cell_type": "code",
   "execution_count": null,
   "id": "nonprofit-builder",
   "metadata": {},
   "outputs": [],
   "source": [
    "%%time\n",
    "x_train_val, x_test, string_cols_le = encoder_train_test(x_train_val, x_test)\n",
    "x_train_val = x_train_val.to_pandas()\n",
    "x_test = x_test.to_pandas()"
   ]
  },
  {
   "cell_type": "markdown",
   "id": "optimum-hybrid",
   "metadata": {},
   "source": [
    "## Data imputation based on domain knowledge\n",
    "\n",
    "**Hyphotesis**\n",
    "- For exams variables, nan area not perfomed exams. Imputing with -99 will add the information about non performed exams\n",
    "- Physical atributes as age, bmi, height, gender and weight can be use to impute themselfs\n",
    "- Categorical variables let's keep the effect of nan using -99"
   ]
  },
  {
   "cell_type": "markdown",
   "id": "sporting-fishing",
   "metadata": {},
   "source": [
    "### Phyisical variables (age, bmi, ethnicity, gender, height and weight)"
   ]
  },
  {
   "cell_type": "code",
   "execution_count": null,
   "id": "female-communications",
   "metadata": {},
   "outputs": [],
   "source": [
    "%%time\n",
    "physical_cols = [\"age\", \"bmi\", \"ethnicity\", \"gender\", \"height\", \"weight\"]\n",
    "train_physical = x_train_val.loc[:, physical_cols]\n",
    "test_physical = x_test.loc[:, physical_cols]\n",
    "\n",
    "imputer = KNNImputer()\n",
    "train_test_physical_imputed = imputer.fit_transform(pd.concat([train_physical, test_physical], axis=0))\n",
    "train_test_physical_imputed = pd.DataFrame(train_test_physical_imputed, columns=physical_cols)"
   ]
  },
  {
   "cell_type": "code",
   "execution_count": null,
   "id": "fixed-target",
   "metadata": {},
   "outputs": [],
   "source": [
    "train_physical_imputed = train_test_physical_imputed.head(train_physical.shape[0])\n",
    "test_physical_imputed = train_test_physical_imputed.tail(test_physical.shape[0])"
   ]
  },
  {
   "cell_type": "markdown",
   "id": "banner-better",
   "metadata": {},
   "source": [
    "### Exams variables"
   ]
  },
  {
   "cell_type": "code",
   "execution_count": null,
   "id": "speaking-correspondence",
   "metadata": {},
   "outputs": [],
   "source": [
    "exams_cols = np.intersect1d(exams_cols, x_train_val.columns.tolist())"
   ]
  },
  {
   "cell_type": "code",
   "execution_count": null,
   "id": "hollywood-excerpt",
   "metadata": {},
   "outputs": [],
   "source": [
    "train_exams_imputed = x_train_val.loc[:, exams_cols].fillna(-99)\n",
    "test_exams_imputed = x_test.loc[:, exams_cols].fillna(-99)"
   ]
  },
  {
   "cell_type": "markdown",
   "id": "excessive-linux",
   "metadata": {},
   "source": [
    "### Other variables"
   ]
  },
  {
   "cell_type": "code",
   "execution_count": null,
   "id": "missing-protocol",
   "metadata": {},
   "outputs": [],
   "source": [
    "others_cols = np.concatenate([physical_cols, exams_cols])"
   ]
  },
  {
   "cell_type": "code",
   "execution_count": null,
   "id": "classical-drove",
   "metadata": {},
   "outputs": [],
   "source": [
    "x_train_val.drop(others_cols, axis=1).isna().sum()"
   ]
  },
  {
   "cell_type": "code",
   "execution_count": null,
   "id": "victorian-somalia",
   "metadata": {},
   "outputs": [],
   "source": [
    "x_train_val.drop(others_cols, axis=1).isna().sum()"
   ]
  },
  {
   "cell_type": "code",
   "execution_count": null,
   "id": "creative-purchase",
   "metadata": {},
   "outputs": [],
   "source": [
    "train_others_imputed = x_train_val.drop(others_cols, axis=1).fillna(-99)\n",
    "test_others_imputed = x_test.drop(others_cols, axis=1).fillna(-99)"
   ]
  },
  {
   "cell_type": "markdown",
   "id": "seasonal-mouth",
   "metadata": {},
   "source": [
    "### Merging all imputed"
   ]
  },
  {
   "cell_type": "code",
   "execution_count": null,
   "id": "endangered-liver",
   "metadata": {},
   "outputs": [],
   "source": [
    "x_train_val = pd.concat([train_physical, train_exams_imputed, train_others_imputed], axis=1)\n",
    "x_test = pd.concat([test_physical, test_exams_imputed, test_others_imputed], axis=1)"
   ]
  },
  {
   "cell_type": "code",
   "execution_count": null,
   "id": "structural-establishment",
   "metadata": {},
   "outputs": [],
   "source": [
    "SEED = 529\n",
    "TEST_SIZE = 0.2\n",
    "\n",
    "x_train, x_val, y_train, y_val = train_test_split(x_train_val, y_train_val, test_size=TEST_SIZE, random_state=SEED)"
   ]
  },
  {
   "cell_type": "code",
   "execution_count": null,
   "id": "diverse-yeast",
   "metadata": {},
   "outputs": [],
   "source": [
    "data_clean = {\n",
    "    \"x_train_val\": x_train_val,\n",
    "    \"y_train_val\": y_train_val,\n",
    "    \"x_test\": x_test,\n",
    "    \"x_train\": x_train,\n",
    "    \"y_train\": y_train,\n",
    "    \"x_val\": x_val,\n",
    "    \"y_val\": y_val}"
   ]
  },
  {
   "cell_type": "code",
   "execution_count": null,
   "id": "technological-upset",
   "metadata": {},
   "outputs": [],
   "source": [
    "with open(\"../data/data_smart_no_correlated_drop.pkl\", \"wb\") as f:\n",
    "    pickle.dump(data_clean, f)"
   ]
  }
 ],
 "metadata": {
  "kernelspec": {
   "display_name": "Python [conda env:wids2021] *",
   "language": "python",
   "name": "conda-env-wids2021-py"
  },
  "language_info": {
   "codemirror_mode": {
    "name": "ipython",
    "version": 3
   },
   "file_extension": ".py",
   "mimetype": "text/x-python",
   "name": "python",
   "nbconvert_exporter": "python",
   "pygments_lexer": "ipython3",
   "version": "3.7.9"
  }
 },
 "nbformat": 4,
 "nbformat_minor": 5
}
