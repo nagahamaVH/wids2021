{
 "cells": [
  {
   "cell_type": "markdown",
   "id": "atmospheric-ancient",
   "metadata": {},
   "source": [
    "# Data smart\n",
    "- Drop variables with too much missing\n",
    "- Imputation based on domain knowledge\n",
    "- Imputation with train and test data\n",
    "- Drop correlated features"
   ]
  },
  {
   "cell_type": "code",
   "execution_count": null,
   "id": "heated-olympus",
   "metadata": {},
   "outputs": [],
   "source": [
    "import cudf\n",
    "import pandas as pd\n",
    "import numpy as np\n",
    "import pickle\n",
    "from sklearn.model_selection import train_test_split\n",
    "from sklearn.impute import KNNImputer\n",
    "from preprocessing_tools import drop_missing_train_test, get_top_abs_correlations, encoder_train_test"
   ]
  },
  {
   "cell_type": "code",
   "execution_count": null,
   "id": "accredited-integration",
   "metadata": {},
   "outputs": [],
   "source": [
    "train = pd.read_csv(\"../data/TrainingWiDS2021.csv\", index_col=0)\n",
    "test = pd.read_csv(\"../data/UnlabeledWiDS2021.csv\", index_col=0)"
   ]
  },
  {
   "cell_type": "code",
   "execution_count": null,
   "id": "appointed-flush",
   "metadata": {},
   "outputs": [],
   "source": [
    "with open(\"../data/exam_cols.pkl\", \"rb\") as f:\n",
    "    exams_cols = pickle.load(f)"
   ]
  },
  {
   "cell_type": "code",
   "execution_count": null,
   "id": "hazardous-provincial",
   "metadata": {},
   "outputs": [],
   "source": [
    "# with open(\"../data/data_fe.pkl\", \"rb\") as f:\n",
    "#     data = pickle.load(f)\n",
    "\n",
    "# train = data[\"train\"]\n",
    "# test = data[\"test\"]"
   ]
  },
  {
   "cell_type": "markdown",
   "id": "framed-vegetarian",
   "metadata": {},
   "source": [
    "## Split data in covariables and response"
   ]
  },
  {
   "cell_type": "code",
   "execution_count": null,
   "id": "attempted-austin",
   "metadata": {},
   "outputs": [],
   "source": [
    "RESPONSE_COL = \"diabetes_mellitus\"\n",
    "DROP_X_COLS = [\"readmission_status\", \"encounter_id\", \"hospital_id\"]\n",
    "\n",
    "x_train_val = train.copy().drop(np.append(DROP_X_COLS, RESPONSE_COL), axis=1)\n",
    "y_train_val = train.loc[:, RESPONSE_COL]\n",
    "\n",
    "x_test = test.copy().drop(DROP_X_COLS, axis=1)"
   ]
  },
  {
   "cell_type": "markdown",
   "id": "intensive-spray",
   "metadata": {},
   "source": [
    "## Drop missing"
   ]
  },
  {
   "cell_type": "code",
   "execution_count": null,
   "id": "rough-fever",
   "metadata": {},
   "outputs": [],
   "source": [
    "# MISSING_TRESH = 0.5\n",
    "\n",
    "# x_train_val, x_test = drop_missing_train_test(x_train_val, x_test, treshold=MISSING_TRESH)"
   ]
  },
  {
   "cell_type": "markdown",
   "id": "reduced-weapon",
   "metadata": {},
   "source": [
    "## Encoding categorical"
   ]
  },
  {
   "cell_type": "code",
   "execution_count": null,
   "id": "religious-cheese",
   "metadata": {},
   "outputs": [],
   "source": [
    "%%time\n",
    "x_train_val, x_test, string_cols_le = encoder_train_test(x_train_val, x_test)\n",
    "x_train_val = x_train_val.to_pandas()\n",
    "x_test = x_test.to_pandas()"
   ]
  },
  {
   "cell_type": "markdown",
   "id": "specific-tribe",
   "metadata": {},
   "source": [
    "## Data imputation based on domain knowledge\n",
    "\n",
    "**Hyphotesis**\n",
    "- For exams variables, nan area not perfomed exams. Imputing with -99 will add the information about non performed exams\n",
    "- Physical atributes as age, bmi, height, gender and weight can be use to impute themselfs\n",
    "- Categorical variables let's keep the effect of nan using -99"
   ]
  },
  {
   "cell_type": "markdown",
   "id": "imposed-myanmar",
   "metadata": {},
   "source": [
    "### Phyisical variables (age, bmi, ethnicity, gender, height and weight)"
   ]
  },
  {
   "cell_type": "code",
   "execution_count": null,
   "id": "demanding-shark",
   "metadata": {},
   "outputs": [],
   "source": [
    "%%time\n",
    "physical_cols = [\"age\", \"bmi\", \"ethnicity\", \"gender\", \"height\", \"weight\"]\n",
    "train_physical = x_train_val.loc[:, physical_cols]\n",
    "test_physical = x_test.loc[:, physical_cols]\n",
    "\n",
    "imputer = KNNImputer()\n",
    "train_test_physical_imputed = imputer.fit_transform(pd.concat([train_physical, test_physical], axis=0))\n",
    "train_test_physical_imputed = pd.DataFrame(train_test_physical_imputed, columns=physical_cols)"
   ]
  },
  {
   "cell_type": "code",
   "execution_count": null,
   "id": "divine-bedroom",
   "metadata": {},
   "outputs": [],
   "source": [
    "train_physical_imputed = train_test_physical_imputed.head(train_physical.shape[0])\n",
    "test_physical_imputed = train_test_physical_imputed.tail(test_physical.shape[0])"
   ]
  },
  {
   "cell_type": "markdown",
   "id": "announced-excuse",
   "metadata": {},
   "source": [
    "### Exams variables"
   ]
  },
  {
   "cell_type": "code",
   "execution_count": null,
   "id": "alternate-mexican",
   "metadata": {},
   "outputs": [],
   "source": [
    "exams_cols = np.intersect1d(exams_cols, x_train_val.columns.tolist())"
   ]
  },
  {
   "cell_type": "code",
   "execution_count": null,
   "id": "christian-least",
   "metadata": {},
   "outputs": [],
   "source": [
    "train_exams_imputed = x_train_val.loc[:, exams_cols].fillna(-99)\n",
    "test_exams_imputed = x_test.loc[:, exams_cols].fillna(-99)"
   ]
  },
  {
   "cell_type": "markdown",
   "id": "incorporated-nursing",
   "metadata": {},
   "source": [
    "### Other variables"
   ]
  },
  {
   "cell_type": "code",
   "execution_count": null,
   "id": "pressed-orleans",
   "metadata": {},
   "outputs": [],
   "source": [
    "others_cols = np.concatenate([physical_cols, exams_cols])"
   ]
  },
  {
   "cell_type": "code",
   "execution_count": null,
   "id": "third-finland",
   "metadata": {},
   "outputs": [],
   "source": [
    "x_train_val.drop(others_cols, axis=1).isna().sum()"
   ]
  },
  {
   "cell_type": "code",
   "execution_count": null,
   "id": "heavy-calendar",
   "metadata": {},
   "outputs": [],
   "source": [
    "x_train_val.drop(others_cols, axis=1).isna().sum()"
   ]
  },
  {
   "cell_type": "code",
   "execution_count": null,
   "id": "found-works",
   "metadata": {},
   "outputs": [],
   "source": [
    "train_others_imputed = x_train_val.drop(others_cols, axis=1).fillna(-99)\n",
    "test_others_imputed = x_test.drop(others_cols, axis=1).fillna(-99)"
   ]
  },
  {
   "cell_type": "markdown",
   "id": "racial-pocket",
   "metadata": {},
   "source": [
    "### Merging all imputed"
   ]
  },
  {
   "cell_type": "code",
   "execution_count": null,
   "id": "controversial-flavor",
   "metadata": {},
   "outputs": [],
   "source": [
    "x_train_val = pd.concat([train_physical, train_exams_imputed, train_others_imputed], axis=1)\n",
    "x_test = pd.concat([test_physical, test_exams_imputed, test_others_imputed], axis=1)"
   ]
  },
  {
   "cell_type": "markdown",
   "id": "disturbed-collective",
   "metadata": {},
   "source": [
    "## Removing correlated features"
   ]
  },
  {
   "cell_type": "code",
   "execution_count": null,
   "id": "incomplete-ocean",
   "metadata": {},
   "outputs": [],
   "source": [
    "CORR_TRESH = 0.8\n",
    "\n",
    "corr_info = get_top_abs_correlations(x_train_val, n=10000000)\n",
    "corr_selected = corr_info[corr_info[\"corr_abs\"] >= CORR_TRESH]"
   ]
  },
  {
   "cell_type": "code",
   "execution_count": null,
   "id": "acceptable-klein",
   "metadata": {},
   "outputs": [],
   "source": [
    "to_drop = list(set(corr_selected[\"level_1\"].tolist()))\n",
    "print(len(to_drop), \"columns droped\")\n",
    "x_train_val.drop(to_drop, axis=1, inplace=True)\n",
    "x_test.drop(to_drop, axis=1, inplace=True)"
   ]
  },
  {
   "cell_type": "code",
   "execution_count": null,
   "id": "iraqi-circus",
   "metadata": {},
   "outputs": [],
   "source": [
    "SEED = 529\n",
    "TEST_SIZE = 0.2\n",
    "\n",
    "x_train, x_val, y_train, y_val = train_test_split(x_train_val, y_train_val, test_size=TEST_SIZE, random_state=SEED)"
   ]
  },
  {
   "cell_type": "code",
   "execution_count": null,
   "id": "retired-oriental",
   "metadata": {},
   "outputs": [],
   "source": [
    "data_clean = {\n",
    "    \"x_train_val\": x_train_val,\n",
    "    \"y_train_val\": y_train_val,\n",
    "    \"x_test\": x_test,\n",
    "    \"x_train\": x_train,\n",
    "    \"y_train\": y_train,\n",
    "    \"x_val\": x_val,\n",
    "    \"y_val\": y_val}"
   ]
  },
  {
   "cell_type": "code",
   "execution_count": null,
   "id": "elegant-belarus",
   "metadata": {},
   "outputs": [],
   "source": [
    "with open(\"../data/data_smart_fe.pkl\", \"wb\") as f:\n",
    "    pickle.dump(data_clean, f)"
   ]
  }
 ],
 "metadata": {
  "kernelspec": {
   "display_name": "Python [conda env:wids2021] *",
   "language": "python",
   "name": "conda-env-wids2021-py"
  },
  "language_info": {
   "codemirror_mode": {
    "name": "ipython",
    "version": 3
   },
   "file_extension": ".py",
   "mimetype": "text/x-python",
   "name": "python",
   "nbconvert_exporter": "python",
   "pygments_lexer": "ipython3",
   "version": "3.7.9"
  }
 },
 "nbformat": 4,
 "nbformat_minor": 5
}
