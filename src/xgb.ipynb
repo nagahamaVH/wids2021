{
 "cells": [
  {
   "cell_type": "code",
   "execution_count": null,
   "id": "beneficial-boards",
   "metadata": {},
   "outputs": [],
   "source": [
    "import numpy as np\n",
    "import pandas as pd\n",
    "import xgboost as xgb\n",
    "import pickle\n",
    "import os\n",
    "import matplotlib.pyplot as plt\n",
    "from sklearn.metrics import roc_auc_score\n",
    "from sklearn.utils.class_weight import compute_class_weight\n",
    "from tools import make_submission"
   ]
  },
  {
   "cell_type": "code",
   "execution_count": null,
   "id": "built-president",
   "metadata": {},
   "outputs": [],
   "source": [
    "DATA_PATH = \"../data/data_remove_redundant.pkl\"\n",
    "SUB_FILE = \"xgb_remove_redundant_weighted.csv\"\n",
    "\n",
    "TEST_PATH = \"../data/UnlabeledWiDS2021.csv\"\n",
    "SUBMISSION_PATH = \"../submissions\""
   ]
  },
  {
   "cell_type": "markdown",
   "id": "sexual-dutch",
   "metadata": {},
   "source": [
    "## Loading data"
   ]
  },
  {
   "cell_type": "code",
   "execution_count": null,
   "id": "cardiovascular-equation",
   "metadata": {},
   "outputs": [],
   "source": [
    "with open(DATA_PATH, \"rb\") as f:\n",
    "    data = pickle.load(f)\n",
    "\n",
    "x_train_val = data[\"x_train_val\"]\n",
    "y_train_val = data[\"y_train_val\"]\n",
    "x_test = data[\"x_test\"]\n",
    "\n",
    "x_train = data[\"x_train\"]\n",
    "y_train = data[\"y_train\"]\n",
    "x_val = data[\"x_val\"]\n",
    "y_val = data[\"y_val\"]"
   ]
  },
  {
   "cell_type": "code",
   "execution_count": null,
   "id": "robust-radius",
   "metadata": {},
   "outputs": [],
   "source": [
    "train_val_dmatrix = xgb.DMatrix(x_train_val, label=y_train_val)\n",
    "test_dmatrix = xgb.DMatrix(x_test)\n",
    "\n",
    "train_dmatrix = xgb.DMatrix(x_train, label=y_train)\n",
    "val_dmatrix = xgb.DMatrix(x_val, label=y_val)"
   ]
  },
  {
   "cell_type": "markdown",
   "id": "western-continuity",
   "metadata": {},
   "source": [
    "## Training in train/validation data"
   ]
  },
  {
   "cell_type": "code",
   "execution_count": null,
   "id": "through-massage",
   "metadata": {},
   "outputs": [],
   "source": [
    "params = {\"objective\": \"binary:logistic\",\n",
    "          \"max_depth\": 20,\n",
    "          \"max_leaves\": 15,\n",
    "          \"eval_metric\": [\"auc\", \"logloss\"],\n",
    "          \"tree_method\": \"gpu_hist\"}\n",
    "N_TREES = 100\n",
    "\n",
    "evals = [(train_dmatrix, 'train'), (val_dmatrix, 'val')]\n",
    "eval_history = {}\n",
    "\n",
    "model = xgb.train(params, train_dmatrix, num_boost_round=N_TREES, evals=evals, evals_result=eval_history, verbose_eval=False)"
   ]
  },
  {
   "cell_type": "code",
   "execution_count": null,
   "id": "interpreted-landing",
   "metadata": {},
   "outputs": [],
   "source": [
    "val_pred = model.predict(val_dmatrix)\n",
    "print(\"AUC:\", roc_auc_score(y_val, val_pred))\n",
    "\n",
    "n_epochs = len(eval_history[\"train\"][\"auc\"])\n",
    "epochs = range(0, n_epochs)\n",
    "\n",
    "fig, ax = plt.subplots()\n",
    "ax.plot(epochs, eval_history['train']['auc'], label='Train')\n",
    "ax.plot(epochs, eval_history['val']['auc'], label='Val')\n",
    "ax.legend()\n",
    "plt.title('auc')\n",
    "plt.show()\n",
    "\n",
    "fig, ax = plt.subplots()\n",
    "ax.plot(epochs, eval_history['train']['logloss'], label='Train')\n",
    "ax.plot(epochs, eval_history['val']['logloss'], label='Val')\n",
    "ax.legend()\n",
    "plt.title('logloss')\n",
    "plt.show()"
   ]
  },
  {
   "cell_type": "markdown",
   "id": "sealed-forty",
   "metadata": {},
   "source": [
    "## Class Weights"
   ]
  },
  {
   "cell_type": "code",
   "execution_count": null,
   "id": "framed-grove",
   "metadata": {},
   "outputs": [],
   "source": [
    "class_weights = compute_class_weight(\"balanced\", np.unique(y_train_val), y_train_val)\n",
    "df_weights = pd.DataFrame(class_weights, columns=[\"weight\"])\n",
    "df_weights[\"diabetes_mellitus\"] = [0, 1]\n",
    "df_weights"
   ]
  },
  {
   "cell_type": "code",
   "execution_count": null,
   "id": "explicit-orchestra",
   "metadata": {},
   "outputs": [],
   "source": [
    "w_train_val = pd.DataFrame(y_train_val).merge(df_weights, on=\"diabetes_mellitus\")[\"weight\"]\n",
    "w_train = pd.DataFrame(y_train).merge(df_weights, on=\"diabetes_mellitus\")[\"weight\"]\n",
    "w_val = pd.DataFrame(y_val).merge(df_weights, on=\"diabetes_mellitus\")[\"weight\"]"
   ]
  },
  {
   "cell_type": "code",
   "execution_count": null,
   "id": "independent-unemployment",
   "metadata": {},
   "outputs": [],
   "source": [
    "w_train_val_dmatrix = xgb.DMatrix(x_train_val, label=y_train_val, weight=w_train_val)\n",
    "w_test_dmatrix = xgb.DMatrix(x_test)\n",
    "\n",
    "w_train_dmatrix = xgb.DMatrix(x_train, label=y_train, weight=w_train)\n",
    "w_val_dmatrix = xgb.DMatrix(x_val, label=y_val, weight=w_val)"
   ]
  },
  {
   "cell_type": "code",
   "execution_count": null,
   "id": "devoted-benefit",
   "metadata": {},
   "outputs": [],
   "source": [
    "params = {\"objective\": \"binary:logistic\",\n",
    "          \"max_depth\": 20,\n",
    "          \"max_leaves\": 15,\n",
    "          \"min_child_weight\": 5,\n",
    "          \"gamma\": 5,\n",
    "          \"eval_metric\": [\"auc\", \"logloss\"],\n",
    "          \"tree_method\": \"gpu_hist\"}\n",
    "N_TREES = 100\n",
    "\n",
    "evals = [(w_train_dmatrix, 'train'), (w_val_dmatrix, 'val')]\n",
    "eval_history = {}\n",
    "\n",
    "model = xgb.train(params, w_train_dmatrix, num_boost_round=N_TREES, evals=evals, evals_result=eval_history, verbose_eval=False)"
   ]
  },
  {
   "cell_type": "code",
   "execution_count": null,
   "id": "presidential-blind",
   "metadata": {},
   "outputs": [],
   "source": [
    "val_pred = model.predict(val_dmatrix)\n",
    "print(\"AUC:\", roc_auc_score(y_val, val_pred))\n",
    "\n",
    "n_epochs = len(eval_history[\"train\"][\"auc\"])\n",
    "epochs = range(0, n_epochs)\n",
    "\n",
    "fig, ax = plt.subplots()\n",
    "ax.plot(epochs, eval_history['train']['auc'], label='Train')\n",
    "ax.plot(epochs, eval_history['val']['auc'], label='Val')\n",
    "ax.legend()\n",
    "plt.title('auc')\n",
    "plt.show()\n",
    "\n",
    "fig, ax = plt.subplots()\n",
    "ax.plot(epochs, eval_history['train']['logloss'], label='Train')\n",
    "ax.plot(epochs, eval_history['val']['logloss'], label='Val')\n",
    "ax.legend()\n",
    "plt.title('logloss')\n",
    "plt.show()"
   ]
  },
  {
   "cell_type": "markdown",
   "id": "ordered-dependence",
   "metadata": {},
   "source": [
    "## Feature Importance"
   ]
  },
  {
   "cell_type": "code",
   "execution_count": null,
   "id": "juvenile-research",
   "metadata": {},
   "outputs": [],
   "source": [
    "feature_importance = model.get_score(importance_type='gain')\n",
    "keys = list(feature_importance.keys())\n",
    "values = list(feature_importance.values())\n",
    "\n",
    "data = pd.DataFrame(data=values, index=keys, columns=[\"score\"]).sort_values(by = \"score\", ascending=False)\n",
    "data.head(15)"
   ]
  },
  {
   "cell_type": "markdown",
   "id": "entire-control",
   "metadata": {},
   "source": [
    "## Training with all data"
   ]
  },
  {
   "cell_type": "code",
   "execution_count": null,
   "id": "wireless-salad",
   "metadata": {},
   "outputs": [],
   "source": [
    "model = xgb.train(params, train_val_dmatrix, num_boost_round=N_TREES)\n",
    "\n",
    "test_pred = model.predict(test_dmatrix)"
   ]
  },
  {
   "cell_type": "code",
   "execution_count": null,
   "id": "composite-bulgarian",
   "metadata": {},
   "outputs": [],
   "source": [
    "sub_name = os.path.join(SUBMISSION_PATH, SUB_FILE)\n",
    "make_submission(test_pred, TEST_PATH, sub_name)"
   ]
  }
 ],
 "metadata": {
  "kernelspec": {
   "display_name": "Python [conda env:wids2021] *",
   "language": "python",
   "name": "conda-env-wids2021-py"
  },
  "language_info": {
   "codemirror_mode": {
    "name": "ipython",
    "version": 3
   },
   "file_extension": ".py",
   "mimetype": "text/x-python",
   "name": "python",
   "nbconvert_exporter": "python",
   "pygments_lexer": "ipython3",
   "version": "3.7.9"
  }
 },
 "nbformat": 4,
 "nbformat_minor": 5
}
