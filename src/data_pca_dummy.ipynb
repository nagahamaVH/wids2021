{
 "cells": [
  {
   "cell_type": "code",
   "execution_count": null,
   "id": "loving-earth",
   "metadata": {},
   "outputs": [],
   "source": [
    "import cudf\n",
    "import pandas as pd\n",
    "import numpy as np\n",
    "import pickle\n",
    "from sklearn.model_selection import train_test_split\n",
    "from sklearn.decomposition import PCA\n",
    "from preprocessing_tools import drop_missing_train_test, get_top_abs_correlations"
   ]
  },
  {
   "cell_type": "code",
   "execution_count": null,
   "id": "specialized-border",
   "metadata": {},
   "outputs": [],
   "source": [
    "train = pd.read_csv(\"../data/TrainingWiDS2021.csv\", index_col=0)\n",
    "test = pd.read_csv(\"../data/UnlabeledWiDS2021.csv\", index_col=0)"
   ]
  },
  {
   "cell_type": "markdown",
   "id": "duplicate-response",
   "metadata": {},
   "source": [
    "## Split data in covariables and response"
   ]
  },
  {
   "cell_type": "code",
   "execution_count": null,
   "id": "imperial-valve",
   "metadata": {},
   "outputs": [],
   "source": [
    "RESPONSE_COL = \"diabetes_mellitus\"\n",
    "DROP_X_COLS = [\"readmission_status\", \"encounter_id\", \"hospital_id\"]\n",
    "\n",
    "x_train_val = train.copy().drop(np.append(DROP_X_COLS, RESPONSE_COL), axis=1)\n",
    "y_train_val = train.loc[:, RESPONSE_COL]\n",
    "\n",
    "x_test = test.copy().drop(DROP_X_COLS, axis=1)"
   ]
  },
  {
   "cell_type": "markdown",
   "id": "educated-polymer",
   "metadata": {},
   "source": [
    "## Drop missing"
   ]
  },
  {
   "cell_type": "code",
   "execution_count": null,
   "id": "convenient-converter",
   "metadata": {},
   "outputs": [],
   "source": [
    "MISSING_TRESH = 0.5\n",
    "\n",
    "x_train_val, x_test = drop_missing_train_test(x_train_val, x_test, treshold=MISSING_TRESH)"
   ]
  },
  {
   "cell_type": "markdown",
   "id": "opposed-gregory",
   "metadata": {},
   "source": [
    "## Split features in categorical e numerical"
   ]
  },
  {
   "cell_type": "code",
   "execution_count": null,
   "id": "excess-poultry",
   "metadata": {},
   "outputs": [],
   "source": [
    "num_cols = x_train_val.columns[x_train_val.dtypes != \"object\"].values\n",
    "cat_cols = x_train_val.columns[x_train_val.dtypes == \"object\"].values\n",
    "\n",
    "x_num_train_val = x_train_val[num_cols]\n",
    "x_cat_train_val = x_train_val[cat_cols]\n",
    "\n",
    "x_num_test = x_test[num_cols]\n",
    "x_cat_test = x_test[cat_cols]"
   ]
  },
  {
   "cell_type": "markdown",
   "id": "south-philadelphia",
   "metadata": {},
   "source": [
    "## Data imputation"
   ]
  },
  {
   "cell_type": "code",
   "execution_count": null,
   "id": "governmental-serum",
   "metadata": {},
   "outputs": [],
   "source": [
    "means = x_num_train_val.mean()\n",
    "x_num_train_val = x_num_train_val.fillna(means)\n",
    "x_num_test = x_num_test.fillna(means)"
   ]
  },
  {
   "cell_type": "markdown",
   "id": "congressional-flower",
   "metadata": {},
   "source": [
    "## PCA"
   ]
  },
  {
   "cell_type": "code",
   "execution_count": null,
   "id": "speaking-march",
   "metadata": {},
   "outputs": [],
   "source": [
    "VARIANCE_EXPLAINED = 0.99\n",
    "\n",
    "pca = PCA(VARIANCE_EXPLAINED)\n",
    "pca.fit(x_num_train_val)\n",
    "pca.n_components_"
   ]
  },
  {
   "cell_type": "code",
   "execution_count": null,
   "id": "bearing-seminar",
   "metadata": {},
   "outputs": [],
   "source": [
    "x_num_train_val_pca = pd.DataFrame(pca.transform(x_num_train_val))\n",
    "x_num_test_pca = pd.DataFrame(pca.transform(x_num_test))"
   ]
  },
  {
   "cell_type": "markdown",
   "id": "enormous-swift",
   "metadata": {},
   "source": [
    "## Encoding categorical"
   ]
  },
  {
   "cell_type": "code",
   "execution_count": null,
   "id": "ahead-output",
   "metadata": {},
   "outputs": [],
   "source": [
    "n_train_val = x_cat_train_val.shape[0]\n",
    "n_test = x_cat_test.shape[0]\n",
    "\n",
    "x_cat = pd.concat([x_cat_train_val, x_cat_test], axis=1)\n",
    "x_dummy = pd.get_dummies(x_cat)\n",
    "\n",
    "x_train_dummy = x_dummy.head(n_train_val)\n",
    "x_test_dummy = x_dummy.head(n_test)"
   ]
  },
  {
   "cell_type": "code",
   "execution_count": null,
   "id": "dimensional-honey",
   "metadata": {},
   "outputs": [],
   "source": [
    "x_train_val = pd.concat([x_num_train_val_pca.reset_index(drop=True), x_train_dummy.reset_index(drop=True)], axis=1)\n",
    "x_test = pd.concat([x_num_test_pca.reset_index(drop=True), x_test_dummy.reset_index(drop=True)], axis=1)"
   ]
  },
  {
   "cell_type": "code",
   "execution_count": null,
   "id": "celtic-antique",
   "metadata": {},
   "outputs": [],
   "source": [
    "SEED = 529\n",
    "TEST_SIZE = 0.2\n",
    "\n",
    "x_train, x_val, y_train, y_val = train_test_split(x_train_val, y_train_val, test_size=TEST_SIZE, random_state=SEED)"
   ]
  },
  {
   "cell_type": "code",
   "execution_count": null,
   "id": "athletic-semiconductor",
   "metadata": {},
   "outputs": [],
   "source": [
    "data_clean = {\n",
    "    \"x_train_val\": x_train_val,\n",
    "    \"y_train_val\": y_train_val,\n",
    "    \"x_test\": x_test,\n",
    "    \"x_train\": x_train,\n",
    "    \"y_train\": y_train,\n",
    "    \"x_val\": x_val,\n",
    "    \"y_val\": y_val}"
   ]
  },
  {
   "cell_type": "code",
   "execution_count": null,
   "id": "ancient-engineer",
   "metadata": {},
   "outputs": [],
   "source": [
    "with open(\"../data/data_pca_99_dummy.pkl\", \"wb\") as f:\n",
    "    pickle.dump(data_clean, f)"
   ]
  }
 ],
 "metadata": {
  "kernelspec": {
   "display_name": "Python [conda env:wids2021] *",
   "language": "python",
   "name": "conda-env-wids2021-py"
  },
  "language_info": {
   "codemirror_mode": {
    "name": "ipython",
    "version": 3
   },
   "file_extension": ".py",
   "mimetype": "text/x-python",
   "name": "python",
   "nbconvert_exporter": "python",
   "pygments_lexer": "ipython3",
   "version": "3.7.9"
  }
 },
 "nbformat": 4,
 "nbformat_minor": 5
}
