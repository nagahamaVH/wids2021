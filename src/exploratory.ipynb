{
 "cells": [
  {
   "cell_type": "code",
   "execution_count": null,
   "id": "accepted-roman",
   "metadata": {},
   "outputs": [],
   "source": [
    "import cudf\n",
    "import pandas as pd\n",
    "import numpy as np\n",
    "import missingno as msno\n",
    "import seaborn as sns\n",
    "import matplotlib.pyplot as plt\n",
    "import plotly.express as px\n",
    "from preprocessing_tools import inspect_missing_data, get_top_abs_correlations"
   ]
  },
  {
   "cell_type": "code",
   "execution_count": null,
   "id": "ranging-organizer",
   "metadata": {},
   "outputs": [],
   "source": [
    "train = cudf.read_csv(\"../data/TrainingWiDS2021.csv\", index_col=0)\n",
    "train_pd = pd.read_csv(\"../data/TrainingWiDS2021.csv\", index_col=0)\n",
    "print(train.shape)\n",
    "train.head()"
   ]
  },
  {
   "cell_type": "code",
   "execution_count": null,
   "id": "humanitarian-fleet",
   "metadata": {},
   "outputs": [],
   "source": [
    "test = cudf.read_csv(\"../data/UnlabeledWiDS2021.csv\", index_col=0)\n",
    "print(test.shape)\n",
    "test.head()"
   ]
  },
  {
   "cell_type": "markdown",
   "id": "alien-zimbabwe",
   "metadata": {},
   "source": [
    "## Different columns between train and test"
   ]
  },
  {
   "cell_type": "code",
   "execution_count": null,
   "id": "hourly-colors",
   "metadata": {},
   "outputs": [],
   "source": [
    "set(train.columns.values) - set(test.columns.values)"
   ]
  },
  {
   "cell_type": "code",
   "execution_count": null,
   "id": "entertaining-killer",
   "metadata": {},
   "outputs": [],
   "source": [
    "train[\"diabetes_mellitus\"].value_counts(normalize=True)"
   ]
  },
  {
   "cell_type": "markdown",
   "id": "loved-virgin",
   "metadata": {},
   "source": [
    "## Missing values"
   ]
  },
  {
   "cell_type": "code",
   "execution_count": null,
   "id": "martial-commission",
   "metadata": {},
   "outputs": [],
   "source": [
    "missing_data = train_pd.isna().sum().reset_index().sort_values(by=0, ascending=False)\n",
    "missing_data.rename({\"index\": \"variable\", 0: \"n_missing\"}, axis=1, inplace=True)\n",
    "missing_data[\"prop\"] = missing_data[\"n_missing\"] / train.shape[0]\n",
    "missing_data.head()"
   ]
  },
  {
   "cell_type": "code",
   "execution_count": null,
   "id": "literary-lottery",
   "metadata": {},
   "outputs": [],
   "source": [
    "px.histogram(missing_data, x=\"prop\")"
   ]
  },
  {
   "cell_type": "markdown",
   "id": "numerous-argentina",
   "metadata": {},
   "source": [
    "## Constant variables"
   ]
  },
  {
   "cell_type": "markdown",
   "id": "executed-scenario",
   "metadata": {},
   "source": [
    "### Numerical"
   ]
  },
  {
   "cell_type": "code",
   "execution_count": null,
   "id": "geological-rugby",
   "metadata": {},
   "outputs": [],
   "source": [
    "numerical_cols = train.columns[train.dtypes != \"object\"].values\n",
    "categorical_cols = train.columns[train.dtypes == \"object\"].values"
   ]
  },
  {
   "cell_type": "markdown",
   "id": "domestic-chambers",
   "metadata": {},
   "source": [
    "### Categorical"
   ]
  },
  {
   "cell_type": "code",
   "execution_count": null,
   "id": "inner-wonder",
   "metadata": {},
   "outputs": [],
   "source": [
    "df_std = train_pd.loc[:, numerical_cols].apply(\"std\")\n",
    "df_std[df_std == 0]"
   ]
  },
  {
   "cell_type": "code",
   "execution_count": null,
   "id": "continuing-cache",
   "metadata": {},
   "outputs": [],
   "source": [
    "train_pd.loc[:, categorical_cols].astype(str).apply(lambda x: len(np.unique(x)))"
   ]
  },
  {
   "cell_type": "markdown",
   "id": "subsequent-stomach",
   "metadata": {},
   "source": [
    "## Correlation matrix of numerical covariables"
   ]
  },
  {
   "cell_type": "code",
   "execution_count": null,
   "id": "modern-blackberry",
   "metadata": {},
   "outputs": [],
   "source": [
    "missing_data, to_drop = inspect_missing_data(train.loc[:, numerical_cols])\n",
    "\n",
    "to_drop = np.append(to_drop, [\"readmission_status\", \"encounter_id\"])\n",
    "\n",
    "selected_cols = list(set(numerical_cols) - set(to_drop))\n",
    "\n",
    "train_numerical = train_pd.loc[:, selected_cols].astype(\"float64\")\n",
    "mean_values = train_numerical.mean()\n",
    "train_numerical = train_numerical.fillna(mean_values)"
   ]
  },
  {
   "cell_type": "code",
   "execution_count": null,
   "id": "proper-november",
   "metadata": {},
   "outputs": [],
   "source": [
    "df_corr = train_numerical.corr().abs()\n",
    "\n",
    "cols = df_corr.columns.tolist()\n",
    "\n",
    "f, ax = plt.subplots(figsize=(18, 14))\n",
    "mask = np.triu(df_corr)\n",
    "sns.heatmap(df_corr, cmap=\"YlOrRd\", xticklabels=cols, yticklabels=cols, mask=mask)"
   ]
  },
  {
   "cell_type": "code",
   "execution_count": null,
   "id": "filled-league",
   "metadata": {},
   "outputs": [],
   "source": [
    "corr_info = get_top_abs_correlations(train_numerical, n=10000000)\n",
    "corr_info[corr_info[\"corr_abs\"] >= 0.8]"
   ]
  }
 ],
 "metadata": {
  "kernelspec": {
   "display_name": "Python 3",
   "language": "python",
   "name": "python3"
  },
  "language_info": {
   "codemirror_mode": {
    "name": "ipython",
    "version": 3
   },
   "file_extension": ".py",
   "mimetype": "text/x-python",
   "name": "python",
   "nbconvert_exporter": "python",
   "pygments_lexer": "ipython3",
   "version": "3.7.9"
  }
 },
 "nbformat": 4,
 "nbformat_minor": 5
}