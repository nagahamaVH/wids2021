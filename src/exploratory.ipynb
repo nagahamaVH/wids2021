{
 "cells": [
  {
   "cell_type": "code",
   "execution_count": null,
   "id": "chemical-geometry",
   "metadata": {},
   "outputs": [],
   "source": [
    "import cudf\n",
    "import pandas as pd\n",
    "import numpy as np\n",
    "import missingno as msno\n",
    "import seaborn as sns\n",
    "import matplotlib.pyplot as plt\n",
    "import plotly.express as px\n",
    "import re\n",
    "from preprocessing_tools import inspect_missing_data, get_top_abs_correlations"
   ]
  },
  {
   "cell_type": "code",
   "execution_count": null,
   "id": "environmental-energy",
   "metadata": {},
   "outputs": [],
   "source": [
    "train = cudf.read_csv(\"../data/TrainingWiDS2021.csv\", index_col=0)\n",
    "train_pd = pd.read_csv(\"../data/TrainingWiDS2021.csv\", index_col=0)\n",
    "print(train.shape)\n",
    "train.head()"
   ]
  },
  {
   "cell_type": "code",
   "execution_count": null,
   "id": "planned-prophet",
   "metadata": {},
   "outputs": [],
   "source": [
    "test = cudf.read_csv(\"../data/UnlabeledWiDS2021.csv\", index_col=0)\n",
    "test_pd = pd.read_csv(\"../data/UnlabeledWiDS2021.csv\", index_col=0)\n",
    "print(test.shape)\n",
    "test.head()"
   ]
  },
  {
   "cell_type": "code",
   "execution_count": null,
   "id": "theoretical-survivor",
   "metadata": {},
   "outputs": [],
   "source": [
    "data_dict = pd.read_csv(\"../data/DataDictionaryWiDS2021.csv\")\n",
    "data_dict.head()"
   ]
  },
  {
   "cell_type": "code",
   "execution_count": null,
   "id": "ambient-engine",
   "metadata": {},
   "outputs": [],
   "source": [
    "train_test = pd.concat([train_pd, test_pd], axis=0)\n",
    "train_test"
   ]
  },
  {
   "cell_type": "markdown",
   "id": "angry-supervision",
   "metadata": {},
   "source": [
    "## Different columns between train and test"
   ]
  },
  {
   "cell_type": "code",
   "execution_count": null,
   "id": "electoral-friendship",
   "metadata": {},
   "outputs": [],
   "source": [
    "set(train.columns.values) - set(test.columns.values)"
   ]
  },
  {
   "cell_type": "markdown",
   "id": "atmospheric-ethnic",
   "metadata": {},
   "source": [
    "## Distribution of response variable"
   ]
  },
  {
   "cell_type": "code",
   "execution_count": null,
   "id": "breathing-assignment",
   "metadata": {},
   "outputs": [],
   "source": [
    "train[\"diabetes_mellitus\"].value_counts(normalize=True)"
   ]
  },
  {
   "cell_type": "markdown",
   "id": "considered-mapping",
   "metadata": {},
   "source": [
    "## Missing values"
   ]
  },
  {
   "cell_type": "code",
   "execution_count": null,
   "id": "conscious-setup",
   "metadata": {},
   "outputs": [],
   "source": [
    "missing_data = train_test.isna().sum().reset_index().sort_values(by=0, ascending=False)\n",
    "missing_data.rename({\"index\": \"variable\", 0: \"n_missing\"}, axis=1, inplace=True)\n",
    "missing_data = missing_data[missing_data[\"n_missing\"] > 0]\n",
    "missing_data[\"prop\"] = missing_data[\"n_missing\"] / train.shape[0]\n",
    "missing_data"
   ]
  },
  {
   "cell_type": "markdown",
   "id": "painful-staff",
   "metadata": {},
   "source": [
    "- **Some exams are perfomed togheter**\n",
    "- **Hypothesis: if an exam is nan it's because she/he didn't made**\n",
    "- **Hypothesis: if pacient didn't made the exam it's because isn't necessary, for example, the pacient with diabetis to check their status. So, imputation with an outlier value should be a good option (-999)**"
   ]
  },
  {
   "cell_type": "code",
   "execution_count": null,
   "id": "announced-outdoors",
   "metadata": {},
   "outputs": [],
   "source": [
    "msno.heatmap(train_test, labels=False)"
   ]
  },
  {
   "cell_type": "code",
   "execution_count": null,
   "id": "infinite-japan",
   "metadata": {
    "tags": []
   },
   "outputs": [],
   "source": [
    "msno.matrix(train_test.loc[:,[\"bmi\", \"height\", \"weight\"]])"
   ]
  },
  {
   "cell_type": "code",
   "execution_count": null,
   "id": "dress-victor",
   "metadata": {},
   "outputs": [],
   "source": [
    "px.histogram(missing_data, x=\"prop\")"
   ]
  },
  {
   "cell_type": "markdown",
   "id": "dress-trinity",
   "metadata": {},
   "source": [
    "## Checking levels of categorical variable"
   ]
  },
  {
   "cell_type": "code",
   "execution_count": null,
   "id": "touched-wireless",
   "metadata": {},
   "outputs": [],
   "source": [
    "train_test[\"ethnicity\"].unique()"
   ]
  },
  {
   "cell_type": "code",
   "execution_count": null,
   "id": "experimental-despite",
   "metadata": {},
   "outputs": [],
   "source": [
    "train_test[\"gender\"].unique()"
   ]
  },
  {
   "cell_type": "markdown",
   "id": "lesser-stand",
   "metadata": {},
   "source": [
    "## Constant variables"
   ]
  },
  {
   "cell_type": "markdown",
   "id": "demographic-canon",
   "metadata": {},
   "source": [
    "### Numerical"
   ]
  },
  {
   "cell_type": "code",
   "execution_count": null,
   "id": "bulgarian-paris",
   "metadata": {},
   "outputs": [],
   "source": [
    "numerical_cols = train.columns[train.dtypes != \"object\"].values\n",
    "categorical_cols = train.columns[train.dtypes == \"object\"].values"
   ]
  },
  {
   "cell_type": "markdown",
   "id": "material-punishment",
   "metadata": {},
   "source": [
    "### Categorical"
   ]
  },
  {
   "cell_type": "code",
   "execution_count": null,
   "id": "sound-airfare",
   "metadata": {},
   "outputs": [],
   "source": [
    "df_std = train_pd.loc[:, numerical_cols].apply(\"std\")\n",
    "df_std[df_std == 0]"
   ]
  },
  {
   "cell_type": "code",
   "execution_count": null,
   "id": "bottom-interim",
   "metadata": {},
   "outputs": [],
   "source": [
    "train_pd.loc[:, categorical_cols].astype(str).apply(lambda x: len(np.unique(x)))"
   ]
  },
  {
   "cell_type": "markdown",
   "id": "structural-species",
   "metadata": {},
   "source": [
    "## Correlation matrix of numerical covariables"
   ]
  },
  {
   "cell_type": "code",
   "execution_count": null,
   "id": "warming-procedure",
   "metadata": {
    "tags": []
   },
   "outputs": [],
   "source": [
    "missing_data, to_drop = inspect_missing_data(train.loc[:, numerical_cols])\n",
    "\n",
    "to_drop = np.append(to_drop, [\"readmission_status\", \"encounter_id\"])\n",
    "\n",
    "selected_cols = list(set(numerical_cols) - set(to_drop))\n",
    "\n",
    "train_numerical = train_pd.loc[:, selected_cols].astype(\"float64\")\n",
    "mean_values = train_numerical.mean()\n",
    "train_numerical = train_numerical.fillna(mean_values)"
   ]
  },
  {
   "cell_type": "code",
   "execution_count": null,
   "id": "monetary-treasurer",
   "metadata": {},
   "outputs": [],
   "source": [
    "df_corr = train_numerical.corr().abs()\n",
    "\n",
    "cols = df_corr.columns.tolist()\n",
    "\n",
    "f, ax = plt.subplots(figsize=(18, 14))\n",
    "mask = np.triu(df_corr)\n",
    "sns.heatmap(df_corr, cmap=\"YlOrRd\", xticklabels=cols, yticklabels=cols, mask=mask)"
   ]
  },
  {
   "cell_type": "code",
   "execution_count": null,
   "id": "western-writer",
   "metadata": {},
   "outputs": [],
   "source": [
    "corr_info = get_top_abs_correlations(train_numerical, n=10000000)\n",
    "corr_info[corr_info[\"corr_abs\"] >= 0.8]"
   ]
  },
  {
   "cell_type": "markdown",
   "id": "impressed-intent",
   "metadata": {},
   "source": [
    "## Variable hospital_id"
   ]
  },
  {
   "cell_type": "code",
   "execution_count": null,
   "id": "balanced-offering",
   "metadata": {},
   "outputs": [],
   "source": [
    "hospital_train_in_test = np.isin(train[\"hospital_id\"].unique(), test[\"hospital_id\"].unique())\n",
    "hospital_train_in_test.value_counts()"
   ]
  },
  {
   "cell_type": "code",
   "execution_count": null,
   "id": "systematic-priest",
   "metadata": {},
   "outputs": [],
   "source": [
    "icu_train_in_test = np.isin(train[\"icu_id\"].unique(), test[\"icu_id\"].unique())\n",
    "icu_train_in_test.value_counts()"
   ]
  },
  {
   "cell_type": "markdown",
   "id": "integrated-alpha",
   "metadata": {},
   "source": [
    "## Exploring new features"
   ]
  },
  {
   "cell_type": "markdown",
   "id": "mysterious-juice",
   "metadata": {},
   "source": [
    "## Dummy variarble of patients in the first hour"
   ]
  },
  {
   "cell_type": "code",
   "execution_count": null,
   "id": "qualified-egypt",
   "metadata": {},
   "outputs": [],
   "source": [
    "first_24h = data_dict.loc[:, \"Description\"].apply(lambda x: bool(re.search(\"24 hours\", str(x))))\n",
    "first_1h = data_dict.loc[:, \"Description\"].apply(lambda x: bool(re.search(\"first hour\", str(x))))\n",
    "\n",
    "data_dict[\"first_24h\"] = first_24h\n",
    "data_dict[\"first_1h\"] = first_1h"
   ]
  },
  {
   "cell_type": "markdown",
   "id": "dependent-grade",
   "metadata": {},
   "source": [
    "## Dummy variables about terms (oxygen, invasively, non-invasively)"
   ]
  },
  {
   "cell_type": "code",
   "execution_count": null,
   "id": "higher-instruction",
   "metadata": {},
   "outputs": [],
   "source": [
    "oxygen = data_dict.loc[:, \"Description\"].apply(lambda x: bool(re.search(\"oxygen\", str(x))))\n",
    "invasively = data_dict.loc[:, \"Description\"].apply(lambda x: bool(re.search(\" invasively\", str(x))))\n",
    "non_invasively = data_dict.loc[:, \"Description\"].apply(lambda x: bool(re.search(\"non-invasively\", str(x))))\n",
    "\n",
    "data_dict[\"oxygen\"] = oxygen\n",
    "data_dict[\"invasively\"] = invasively\n",
    "data_dict[\"non_invasively\"] = non_invasively"
   ]
  },
  {
   "cell_type": "code",
   "execution_count": null,
   "id": "dense-lighter",
   "metadata": {},
   "outputs": [],
   "source": [
    "data_dict.head()"
   ]
  },
  {
   "cell_type": "markdown",
   "id": "cooperative-heaven",
   "metadata": {},
   "source": [
    "## List of variables in condition (24h, 1h, category)\n",
    "\n",
    "**Hyphotesis: There some patients that dind't stay for 24h/1h. Certain exams are applied only to group of patients**"
   ]
  },
  {
   "cell_type": "code",
   "execution_count": null,
   "id": "expired-drink",
   "metadata": {},
   "outputs": [],
   "source": [
    "features_24h = data_dict.loc[data_dict[\"first_24h\"].tolist(), \"Variable Name\"].tolist()\n",
    "features_1h = data_dict.loc[data_dict[\"first_1h\"].tolist(), \"Variable Name\"].tolist()\n",
    "\n",
    "features_apache = data_dict.loc[data_dict[\"Category\"] == \"APACHE covariate\", \"Variable Name\"].tolist()\n",
    "features_vitals = data_dict.loc[data_dict[\"Category\"] == \"vitals\", \"Variable Name\"].tolist()\n",
    "features_labs = data_dict.loc[data_dict[\"Category\"] == \"labs\", \"Variable Name\"].tolist()\n",
    "features_labs_blood_gas = data_dict.loc[data_dict[\"Category\"] == \"labs blood gas\", \"Variable Name\"].tolist()\n",
    "features_comorbidity = data_dict.loc[data_dict[\"Category\"] == \"APACHE comorbidity\", \"Variable Name\"].tolist()\n",
    "\n",
    "features_oxygen = data_dict.loc[data_dict[\"oxygen\"].tolist(), \"Variable Name\"].tolist()\n",
    "features_invasively = data_dict.loc[data_dict[\"invasively\"].tolist(), \"Variable Name\"].tolist()\n",
    "features_non_invasively = data_dict.loc[data_dict[\"non_invasively\"].tolist(), \"Variable Name\"].tolist()"
   ]
  },
  {
   "cell_type": "markdown",
   "id": "prerequisite-telephone",
   "metadata": {},
   "source": [
    "## Missing correlations"
   ]
  },
  {
   "cell_type": "code",
   "execution_count": null,
   "id": "monthly-eating",
   "metadata": {},
   "outputs": [],
   "source": [
    "msno.heatmap(train_test.loc[:, features_1h], labels=False)"
   ]
  },
  {
   "cell_type": "code",
   "execution_count": null,
   "id": "progressive-equality",
   "metadata": {},
   "outputs": [],
   "source": [
    "msno.heatmap(train_test.loc[:, features_apache], labels=False)"
   ]
  },
  {
   "cell_type": "code",
   "execution_count": null,
   "id": "eligible-timothy",
   "metadata": {},
   "outputs": [],
   "source": [
    "msno.heatmap(train_test.loc[:, features_vitals], labels=False)"
   ]
  },
  {
   "cell_type": "code",
   "execution_count": null,
   "id": "outer-abraham",
   "metadata": {},
   "outputs": [],
   "source": [
    "msno.heatmap(train_test.loc[:, features_labs], labels=False)"
   ]
  },
  {
   "cell_type": "code",
   "execution_count": null,
   "id": "suffering-sunglasses",
   "metadata": {},
   "outputs": [],
   "source": [
    "msno.heatmap(train_test.loc[:, features_labs_blood_gas], labels=False)"
   ]
  },
  {
   "cell_type": "code",
   "execution_count": null,
   "id": "innovative-spokesman",
   "metadata": {},
   "outputs": [],
   "source": [
    "msno.heatmap(train_test.loc[:, features_oxygen], labels=False)"
   ]
  },
  {
   "cell_type": "code",
   "execution_count": null,
   "id": "active-property",
   "metadata": {},
   "outputs": [],
   "source": [
    "msno.heatmap(train_test.loc[:, features_invasively], labels=False)"
   ]
  },
  {
   "cell_type": "code",
   "execution_count": null,
   "id": "opponent-standard",
   "metadata": {},
   "outputs": [],
   "source": [
    "msno.heatmap(train_test.loc[:, features_non_invasively], labels=False)"
   ]
  },
  {
   "cell_type": "markdown",
   "id": "common-memorial",
   "metadata": {},
   "source": [
    "## Creating variable and checking their distribution"
   ]
  },
  {
   "cell_type": "markdown",
   "id": "spoken-strand",
   "metadata": {},
   "source": [
    "### Number of 24h exams"
   ]
  },
  {
   "cell_type": "code",
   "execution_count": null,
   "id": "noble-melbourne",
   "metadata": {},
   "outputs": [],
   "source": [
    "df_temp = train_test.loc[:, features_24h]\n",
    "df_temp.notna().sum(axis=1).value_counts(sort=False)"
   ]
  },
  {
   "cell_type": "markdown",
   "id": "desperate-palestine",
   "metadata": {},
   "source": [
    "### Number of 1h exams"
   ]
  },
  {
   "cell_type": "code",
   "execution_count": null,
   "id": "serious-fence",
   "metadata": {},
   "outputs": [],
   "source": [
    "df_temp = train_test.loc[:, features_1h]\n",
    "df_temp.notna().sum(axis=1).value_counts(sort=False)"
   ]
  },
  {
   "cell_type": "markdown",
   "id": "african-kinase",
   "metadata": {},
   "source": [
    "### Number of apache exams"
   ]
  },
  {
   "cell_type": "code",
   "execution_count": null,
   "id": "atomic-quality",
   "metadata": {},
   "outputs": [],
   "source": [
    "df_temp = train_test.loc[:, features_apache]\n",
    "df_temp.notna().sum(axis=1).value_counts(sort=False)"
   ]
  },
  {
   "cell_type": "markdown",
   "id": "large-density",
   "metadata": {},
   "source": [
    "### Number of vital exams"
   ]
  },
  {
   "cell_type": "code",
   "execution_count": null,
   "id": "improving-stewart",
   "metadata": {},
   "outputs": [],
   "source": [
    "df_temp = train_test.loc[:, features_vitals]\n",
    "df_temp.notna().sum(axis=1).value_counts(sort=False)"
   ]
  },
  {
   "cell_type": "markdown",
   "id": "hydraulic-saturday",
   "metadata": {},
   "source": [
    "### Number of labs exams"
   ]
  },
  {
   "cell_type": "code",
   "execution_count": null,
   "id": "incident-monitoring",
   "metadata": {},
   "outputs": [],
   "source": [
    "df_temp = train_test.loc[:, features_labs]\n",
    "df_temp.notna().sum(axis=1).value_counts(sort=False)"
   ]
  },
  {
   "cell_type": "markdown",
   "id": "amber-albuquerque",
   "metadata": {},
   "source": [
    "### Number of labs blood gas exams"
   ]
  },
  {
   "cell_type": "code",
   "execution_count": null,
   "id": "behind-genealogy",
   "metadata": {},
   "outputs": [],
   "source": [
    "df_temp = train_test.loc[:, features_labs_blood_gas]\n",
    "df_temp.notna().sum(axis=1).value_counts(sort=False)"
   ]
  },
  {
   "cell_type": "markdown",
   "id": "classified-moldova",
   "metadata": {},
   "source": [
    "### Number of comorbidity"
   ]
  },
  {
   "cell_type": "code",
   "execution_count": null,
   "id": "hazardous-tyler",
   "metadata": {},
   "outputs": [],
   "source": [
    "df_temp = train_test.loc[:, features_comorbidity]\n",
    "df_temp.sum(axis=1).value_counts(sort=False)"
   ]
  },
  {
   "cell_type": "markdown",
   "id": "serial-harrison",
   "metadata": {},
   "source": [
    "### Number of oxygen exams"
   ]
  },
  {
   "cell_type": "code",
   "execution_count": null,
   "id": "random-friend",
   "metadata": {},
   "outputs": [],
   "source": [
    "df_temp = train_test.loc[:, features_oxygen]\n",
    "df_temp.notna().sum(axis=1).value_counts(sort=False)"
   ]
  },
  {
   "cell_type": "markdown",
   "id": "applicable-society",
   "metadata": {},
   "source": [
    "### Number of invasively exams"
   ]
  },
  {
   "cell_type": "code",
   "execution_count": null,
   "id": "wanted-delaware",
   "metadata": {},
   "outputs": [],
   "source": [
    "df_temp = train_test.loc[:, features_invasively]\n",
    "df_temp.notna().sum(axis=1).value_counts(sort=False)"
   ]
  },
  {
   "cell_type": "markdown",
   "id": "distinct-better",
   "metadata": {},
   "source": [
    "### Number of non-invasively exams"
   ]
  },
  {
   "cell_type": "code",
   "execution_count": null,
   "id": "sunrise-frank",
   "metadata": {},
   "outputs": [],
   "source": [
    "df_temp = train_test.loc[:, features_non_invasively]\n",
    "df_temp.notna().sum(axis=1).value_counts(sort=False)"
   ]
  },
  {
   "cell_type": "markdown",
   "id": "saved-thunder",
   "metadata": {},
   "source": [
    "### Number of total exams"
   ]
  },
  {
   "cell_type": "code",
   "execution_count": null,
   "id": "verbal-broadcast",
   "metadata": {},
   "outputs": [],
   "source": [
    "df_temp = train_test.loc[:, np.concatenate([features_apache, features_vitals, features_labs, features_labs_blood_gas])]\n",
    "df_temp.notna().sum(axis=1).value_counts(sort=False)"
   ]
  }
 ],
 "metadata": {
  "kernelspec": {
   "display_name": "Python 3",
   "language": "python",
   "name": "python3"
  },
  "language_info": {
   "codemirror_mode": {
    "name": "ipython",
    "version": 3
   },
   "file_extension": ".py",
   "mimetype": "text/x-python",
   "name": "python",
   "nbconvert_exporter": "python",
   "pygments_lexer": "ipython3",
   "version": "3.7.9"
  }
 },
 "nbformat": 4,
 "nbformat_minor": 5
}
