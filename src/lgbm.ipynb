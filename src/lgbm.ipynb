{
 "cells": [
  {
   "cell_type": "code",
   "execution_count": null,
   "id": "northern-catalyst",
   "metadata": {},
   "outputs": [],
   "source": [
    "import numpy as np\n",
    "import pandas as pd\n",
    "import pickle\n",
    "import os\n",
    "import matplotlib.pyplot as plt\n",
    "import lightgbm as lgbm\n",
    "from tools import make_submission"
   ]
  },
  {
   "cell_type": "code",
   "execution_count": null,
   "id": "macro-brush",
   "metadata": {},
   "outputs": [],
   "source": [
    "DATA_PATH = \"../data/data_remove_redundant.pkl\"\n",
    "SUB_FILE = \"lgbm_remove_redundant.csv\"\n",
    "\n",
    "TEST_PATH = \"../data/UnlabeledWiDS2021.csv\"\n",
    "SUBMISSION_PATH = \"../submissions\""
   ]
  },
  {
   "cell_type": "markdown",
   "id": "active-batman",
   "metadata": {},
   "source": [
    "## Loading data"
   ]
  },
  {
   "cell_type": "code",
   "execution_count": null,
   "id": "completed-compiler",
   "metadata": {},
   "outputs": [],
   "source": [
    "with open(DATA_PATH, \"rb\") as f:\n",
    "    data = pickle.load(f)\n",
    "\n",
    "x_train_val = data[\"x_train_val\"]\n",
    "y_train_val = data[\"y_train_val\"]\n",
    "x_test = data[\"x_test\"]\n",
    "\n",
    "x_train = data[\"x_train\"]\n",
    "y_train = data[\"y_train\"]\n",
    "x_val = data[\"x_val\"]\n",
    "y_val = data[\"y_val\"]"
   ]
  },
  {
   "cell_type": "code",
   "execution_count": null,
   "id": "conventional-chuck",
   "metadata": {},
   "outputs": [],
   "source": [
    "lgbm_train_val = lgbm.Dataset(data=x_train_val, label=y_train_val)\n",
    "\n",
    "lgbm_train = lgbm.Dataset(data=x_train, label=y_train)\n",
    "lgbm_val = lgbm.Dataset(data=x_val, label=y_val)"
   ]
  },
  {
   "cell_type": "markdown",
   "id": "frozen-commercial",
   "metadata": {},
   "source": [
    "## Training in train/validation data"
   ]
  },
  {
   "cell_type": "code",
   "execution_count": null,
   "id": "hired-black",
   "metadata": {},
   "outputs": [],
   "source": [
    "EARLY_STOPPING = 100\n",
    "N_TREES = 1000\n",
    "VERBOSE = 200\n",
    "SEED = 1337\n",
    "\n",
    "final_params = {'learning_rate': 0.1,\n",
    "                'objective': 'binary',\n",
    "                'metric': 'auc',\n",
    "                'boosting_type': 'gbdt',\n",
    "                'max_depth': 15,\n",
    "                'subsample': 0.2,\n",
    "                'colsample_bytree': 0.3,\n",
    "                'reg_alpha': 0.54,\n",
    "                'reg_lambda': 0.4,\n",
    "                'min_split_gain': 0.7,\n",
    "                'min_child_weight': 26,\n",
    "                'nthread':-1,\n",
    "                'seed': SEED,\n",
    "                'feature_fraction_seed': SEED,\n",
    "                'bagging_seed': SEED,\n",
    "                'drop_seed': SEED, \n",
    "                'data_random_seed': SEED,\n",
    "                'verbose': -1, \n",
    "                'is_unbalance': True\n",
    "}\n",
    "\n",
    "model = lgbm.train(final_params, train_set=lgbm_train, num_boost_round=N_TREES, valid_sets=lgbm_val,\n",
    "                  early_stopping_rounds=EARLY_STOPPING, verbose_eval=VERBOSE)"
   ]
  },
  {
   "cell_type": "markdown",
   "id": "brown-pledge",
   "metadata": {},
   "source": [
    "## Training with all data"
   ]
  },
  {
   "cell_type": "code",
   "execution_count": null,
   "id": "suited-thanksgiving",
   "metadata": {},
   "outputs": [],
   "source": [
    "model = lgbm.train(final_params, train_set=lgbm_train_val, num_boost_round=424, verbose_eval=VERBOSE)\n",
    "\n",
    "test_pred = model.predict(x_test)"
   ]
  },
  {
   "cell_type": "code",
   "execution_count": null,
   "id": "known-casting",
   "metadata": {},
   "outputs": [],
   "source": [
    "sub_name = os.path.join(SUBMISSION_PATH, SUB_FILE)\n",
    "make_submission(test_pred, TEST_PATH, sub_name)"
   ]
  }
 ],
 "metadata": {
  "kernelspec": {
   "display_name": "Python [conda env:wids2021] *",
   "language": "python",
   "name": "conda-env-wids2021-py"
  },
  "language_info": {
   "codemirror_mode": {
    "name": "ipython",
    "version": 3
   },
   "file_extension": ".py",
   "mimetype": "text/x-python",
   "name": "python",
   "nbconvert_exporter": "python",
   "pygments_lexer": "ipython3",
   "version": "3.7.9"
  }
 },
 "nbformat": 4,
 "nbformat_minor": 5
}
