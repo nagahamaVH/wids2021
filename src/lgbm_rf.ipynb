{
 "cells": [
  {
   "cell_type": "code",
   "execution_count": null,
   "id": "formal-relaxation",
   "metadata": {},
   "outputs": [],
   "source": [
    "import numpy as np\n",
    "import pandas as pd\n",
    "import pickle\n",
    "import os\n",
    "import lightgbm as lgbm\n",
    "from sklearn.metrics import roc_auc_score\n",
    "from tools import make_submission"
   ]
  },
  {
   "cell_type": "code",
   "execution_count": null,
   "id": "secure-sullivan",
   "metadata": {},
   "outputs": [],
   "source": [
    "DATA_PATH = \"../data/data_smart.pkl\"\n",
    "SUB_FILE = \"lgbm_rf_smart.csv\"\n",
    "\n",
    "TEST_PATH = \"../data/UnlabeledWiDS2021.csv\"\n",
    "SUBMISSION_PATH = \"../submissions\""
   ]
  },
  {
   "cell_type": "markdown",
   "id": "bridal-mistress",
   "metadata": {},
   "source": [
    "## Loading data"
   ]
  },
  {
   "cell_type": "code",
   "execution_count": null,
   "id": "equipped-details",
   "metadata": {},
   "outputs": [],
   "source": [
    "with open(DATA_PATH, \"rb\") as f:\n",
    "    data = pickle.load(f)\n",
    "\n",
    "x_train_val = data[\"x_train_val\"]\n",
    "y_train_val = data[\"y_train_val\"]\n",
    "x_test = data[\"x_test\"]\n",
    "\n",
    "x_train = data[\"x_train\"]\n",
    "y_train = data[\"y_train\"]\n",
    "x_val = data[\"x_val\"]\n",
    "y_val = data[\"y_val\"]"
   ]
  },
  {
   "cell_type": "code",
   "execution_count": null,
   "id": "molecular-exposure",
   "metadata": {},
   "outputs": [],
   "source": [
    "eval_set = [(x_val, y_val)]"
   ]
  },
  {
   "cell_type": "code",
   "execution_count": null,
   "id": "personalized-whole",
   "metadata": {},
   "outputs": [],
   "source": [
    "lgbm_train_val = lgbm.Dataset(data=x_train_val, label=y_train_val)\n",
    "\n",
    "lgbm_train = lgbm.Dataset(data=x_train, label=y_train)\n",
    "lgbm_val = lgbm.Dataset(data=x_val, label=y_val)"
   ]
  },
  {
   "cell_type": "markdown",
   "id": "lonely-enemy",
   "metadata": {},
   "source": [
    "## Training in train/validation data"
   ]
  },
  {
   "cell_type": "code",
   "execution_count": null,
   "id": "powerful-rocket",
   "metadata": {},
   "outputs": [],
   "source": [
    "model = lgbm.LGBMClassifier(\n",
    "    boosting_type=\"rf\",\n",
    "    num_leaves=50,\n",
    "    n_estimators=1000,\n",
    "    max_depth=20,\n",
    "    subsample=0.1,\n",
    "    reg_alpha=0.54,\n",
    "    reg_lambda=0.4,\n",
    "    min_split_gain=0.7,\n",
    "    min_child_weight=40,\n",
    "    objective=\"binary\",\n",
    "    is_unbalance=True,\n",
    "    bagging_freq=1,\n",
    "    random_state=1337)\n",
    "\n",
    "model.fit(x_train, y_train, eval_set=eval_set, eval_metric=\"auc\", early_stopping_rounds=100, verbose=100)"
   ]
  },
  {
   "cell_type": "code",
   "execution_count": null,
   "id": "educational-harvard",
   "metadata": {},
   "outputs": [],
   "source": [
    "feature_importance = pd.DataFrame({'feature':x_train.columns, 'score': model.feature_importances_}).sort_values(\"score\", ascending=False).reset_index(drop=True)\n",
    "print(feature_importance.shape)\n",
    "feature_importance.head(10)"
   ]
  },
  {
   "cell_type": "code",
   "execution_count": null,
   "id": "occupational-trinity",
   "metadata": {},
   "outputs": [],
   "source": [
    "feature_importance.tail(10)"
   ]
  },
  {
   "cell_type": "markdown",
   "id": "governing-oxygen",
   "metadata": {},
   "source": [
    "## Training with all data"
   ]
  },
  {
   "cell_type": "code",
   "execution_count": null,
   "id": "explicit-idaho",
   "metadata": {},
   "outputs": [],
   "source": [
    "model = lgbm.LGBMClassifier(\n",
    "    boosting_type=\"rf\",\n",
    "    num_leaves=50,\n",
    "    n_estimators=250,\n",
    "    max_depth=20,\n",
    "    subsample=0.1,\n",
    "    reg_alpha=0.54,\n",
    "    reg_lambda=0.4,\n",
    "    min_split_gain=0.7,\n",
    "    min_child_weight=40,\n",
    "    objective=\"binary\",\n",
    "    is_unbalance=True,\n",
    "    bagging_freq=1,\n",
    "    random_state=1337)\n",
    "\n",
    "model.fit(x_train_val, y_train_val, eval_metric=\"auc\")\n",
    "test_pred = model.predict_proba(x_test)[:,1]"
   ]
  },
  {
   "cell_type": "code",
   "execution_count": null,
   "id": "removed-sphere",
   "metadata": {},
   "outputs": [],
   "source": [
    "sub_name = os.path.join(SUBMISSION_PATH, SUB_FILE)\n",
    "make_submission(test_pred, TEST_PATH, sub_name)"
   ]
  }
 ],
 "metadata": {
  "kernelspec": {
   "display_name": "Python [conda env:wids2021] *",
   "language": "python",
   "name": "conda-env-wids2021-py"
  },
  "language_info": {
   "codemirror_mode": {
    "name": "ipython",
    "version": 3
   },
   "file_extension": ".py",
   "mimetype": "text/x-python",
   "name": "python",
   "nbconvert_exporter": "python",
   "pygments_lexer": "ipython3",
   "version": "3.7.9"
  }
 },
 "nbformat": 4,
 "nbformat_minor": 5
}
