{
 "cells": [
  {
   "cell_type": "code",
   "execution_count": null,
   "id": "secure-india",
   "metadata": {},
   "outputs": [],
   "source": [
    "import numpy as np\n",
    "import pandas as pd\n",
    "import cudf\n",
    "import xgboost as xgb"
   ]
  },
  {
   "cell_type": "code",
   "execution_count": null,
   "id": "postal-latex",
   "metadata": {},
   "outputs": [],
   "source": [
    "train = cudf.read_csv(\"../data/TrainingWiDS2021.csv\", index_col=0)\n",
    "print(train.shape)\n",
    "train.head()"
   ]
  },
  {
   "cell_type": "code",
   "execution_count": null,
   "id": "velvet-culture",
   "metadata": {
    "scrolled": true
   },
   "outputs": [],
   "source": [
    "test = cudf.read_csv(\"../data/UnlabeledWiDS2021.csv\", index_col=0)\n",
    "print(test.shape)\n",
    "test.head()"
   ]
  },
  {
   "cell_type": "markdown",
   "id": "bearing-warehouse",
   "metadata": {},
   "source": [
    "## Split x and y data, excluding identifier and response columns"
   ]
  },
  {
   "cell_type": "code",
   "execution_count": null,
   "id": "driving-joshua",
   "metadata": {},
   "outputs": [],
   "source": [
    "x_train = train.copy().drop([\"encounter_id\", \"diabetes_mellitus\"], axis=1)\n",
    "y_train = train.loc[:, \"diabetes_mellitus\"]\n",
    "\n",
    "x_test = test.copy().drop([\"encounter_id\"], axis=1)"
   ]
  },
  {
   "cell_type": "markdown",
   "id": "positive-respect",
   "metadata": {},
   "source": [
    "## Encode categorical columns"
   ]
  },
  {
   "cell_type": "code",
   "execution_count": null,
   "id": "seasonal-variation",
   "metadata": {},
   "outputs": [],
   "source": [
    "categorical_cols = x_train.columns[x_train.dtypes == \"object\"].values\n",
    "\n",
    "x_train_categorical = x_train.copy()[categorical_cols]\n",
    "x_test_categorical = x_test.copy()[categorical_cols]\n",
    "\n",
    "train_size = x_train.shape[0]\n",
    "test_size = x_test.shape[0]\n",
    "\n",
    "categorical = cudf.concat([x_train_categorical, x_test_categorical], axis=0)\n",
    "categorical = cudf.get_dummies(categorical)\n",
    "\n",
    "x_train_categorical = categorical.head(train_size)\n",
    "x_test_categorical = categorical.tail(test_size)"
   ]
  },
  {
   "cell_type": "code",
   "execution_count": null,
   "id": "alone-province",
   "metadata": {},
   "outputs": [],
   "source": [
    "x_train_numerical = x_train.copy().drop(categorical_cols, axis=1)\n",
    "x_train = cudf.concat([x_train_numerical, x_train_categorical], axis=1)\n",
    "\n",
    "x_test_numerical = x_test.copy().drop(categorical_cols, axis=1)\n",
    "x_test = cudf.concat([x_test_numerical, x_test_categorical], axis=1)"
   ]
  },
  {
   "cell_type": "markdown",
   "id": "appointed-vermont",
   "metadata": {},
   "source": [
    "## Create DMatrix for xgboost"
   ]
  },
  {
   "cell_type": "code",
   "execution_count": null,
   "id": "controlling-netherlands",
   "metadata": {
    "scrolled": true
   },
   "outputs": [],
   "source": [
    "train_dmatrix = xgb.DMatrix(x_train, label=y_train)\n",
    "test_dmatrix = xgb.DMatrix(x_test)"
   ]
  },
  {
   "cell_type": "markdown",
   "id": "executed-celtic",
   "metadata": {},
   "source": [
    "## XGBoost model"
   ]
  },
  {
   "cell_type": "code",
   "execution_count": null,
   "id": "focused-torture",
   "metadata": {},
   "outputs": [],
   "source": [
    "params = {\"objective\": \"binary:logistic\", \n",
    "          \"max_depth\": 20,\n",
    "          \"max_leaves\": 15,\n",
    "          \"tree_method\": \"gpu_hist\"}\n",
    "\n",
    "model = xgb.train(params, train_dmatrix, num_boost_round=120)"
   ]
  },
  {
   "cell_type": "code",
   "execution_count": null,
   "id": "viral-egyptian",
   "metadata": {},
   "outputs": [],
   "source": [
    "pred = model.predict(test_dmatrix)"
   ]
  },
  {
   "cell_type": "code",
   "execution_count": null,
   "id": "intended-catering",
   "metadata": {},
   "outputs": [],
   "source": [
    "feature_importance = pd.DataFrame(model.get_score(importance_type='gain').items(), columns=[\"variable\", \"score\"])\n",
    "feature_importance.sort_values(\"score\", ascending=False, inplace=True)\n",
    "feature_importance.head(10)"
   ]
  },
  {
   "cell_type": "code",
   "execution_count": null,
   "id": "spread-delaware",
   "metadata": {},
   "outputs": [],
   "source": [
    "submission = test.loc[:, [\"encounter_id\"]]\n",
    "submission[\"diabetes_mellitus\"] = pred\n",
    "submission.to_csv(\"../submissions/baseline.csv\", index=False)"
   ]
  }
 ],
 "metadata": {
  "kernelspec": {
   "display_name": "Python 3",
   "language": "python",
   "name": "python3"
  },
  "language_info": {
   "codemirror_mode": {
    "name": "ipython",
    "version": 3
   },
   "file_extension": ".py",
   "mimetype": "text/x-python",
   "name": "python",
   "nbconvert_exporter": "python",
   "pygments_lexer": "ipython3",
   "version": "3.7.9"
  }
 },
 "nbformat": 4,
 "nbformat_minor": 5
}