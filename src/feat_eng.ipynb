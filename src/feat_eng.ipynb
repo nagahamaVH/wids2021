{
 "cells": [
  {
   "cell_type": "code",
   "execution_count": null,
   "id": "compressed-retail",
   "metadata": {},
   "outputs": [],
   "source": [
    "import pandas as pd\n",
    "import numpy as np\n",
    "import re\n",
    "import pickle"
   ]
  },
  {
   "cell_type": "code",
   "execution_count": null,
   "id": "everyday-ebony",
   "metadata": {},
   "outputs": [],
   "source": [
    "train = pd.read_csv(\"../data/TrainingWiDS2021.csv\", index_col=0)\n",
    "test = pd.read_csv(\"../data/UnlabeledWiDS2021.csv\", index_col=0)\n",
    "data_dict = pd.read_csv(\"../data/DataDictionaryWiDS2021.csv\")\n",
    "\n",
    "n_train = train.shape[0]\n",
    "n_test = test.shape[0]\n",
    "\n",
    "train_test = pd.concat([train, test], axis=0)"
   ]
  },
  {
   "cell_type": "markdown",
   "id": "another-kelly",
   "metadata": {},
   "source": [
    "## Dummy variarble of patients in the first hour and 24 hours"
   ]
  },
  {
   "cell_type": "code",
   "execution_count": null,
   "id": "seeing-burner",
   "metadata": {},
   "outputs": [],
   "source": [
    "first_24h = data_dict.loc[:, \"Description\"].apply(lambda x: bool(re.search(\"24 hours\", str(x))))\n",
    "first_1h = data_dict.loc[:, \"Description\"].apply(lambda x: bool(re.search(\"first hour\", str(x))))\n",
    "\n",
    "data_dict[\"first_24h\"] = first_24h\n",
    "data_dict[\"first_1h\"] = first_1h"
   ]
  },
  {
   "cell_type": "markdown",
   "id": "distinct-atlanta",
   "metadata": {},
   "source": [
    "## Dummy variables about terms (oxygen, invasively, non-invasively)"
   ]
  },
  {
   "cell_type": "code",
   "execution_count": null,
   "id": "lyric-arrest",
   "metadata": {},
   "outputs": [],
   "source": [
    "oxygen = data_dict.loc[:, \"Description\"].apply(lambda x: bool(re.search(\"oxygen\", str(x))))\n",
    "invasively = data_dict.loc[:, \"Description\"].apply(lambda x: bool(re.search(\" invasively\", str(x))))\n",
    "non_invasively = data_dict.loc[:, \"Description\"].apply(lambda x: bool(re.search(\"non-invasively\", str(x))))\n",
    "\n",
    "data_dict[\"oxygen\"] = oxygen\n",
    "data_dict[\"invasively\"] = invasively\n",
    "data_dict[\"non_invasively\"] = non_invasively"
   ]
  },
  {
   "cell_type": "markdown",
   "id": "fatty-information",
   "metadata": {},
   "source": [
    "## List of variables in condition (24h, 1h, category)"
   ]
  },
  {
   "cell_type": "code",
   "execution_count": null,
   "id": "sitting-colombia",
   "metadata": {},
   "outputs": [],
   "source": [
    "features_24h = data_dict.loc[data_dict[\"first_24h\"].tolist(), \"Variable Name\"].tolist()\n",
    "features_1h = data_dict.loc[data_dict[\"first_1h\"].tolist(), \"Variable Name\"].tolist()\n",
    "\n",
    "features_apache = data_dict.loc[data_dict[\"Category\"] == \"APACHE covariate\", \"Variable Name\"].tolist()\n",
    "features_vitals = data_dict.loc[data_dict[\"Category\"] == \"vitals\", \"Variable Name\"].tolist()\n",
    "features_labs = data_dict.loc[data_dict[\"Category\"] == \"labs\", \"Variable Name\"].tolist()\n",
    "features_labs_blood_gas = data_dict.loc[data_dict[\"Category\"] == \"labs blood gas\", \"Variable Name\"].tolist()\n",
    "features_comorbidity = data_dict.loc[data_dict[\"Category\"] == \"APACHE comorbidity\", \"Variable Name\"].tolist()\n",
    "\n",
    "features_oxygen = data_dict.loc[data_dict[\"oxygen\"].tolist(), \"Variable Name\"].tolist()\n",
    "features_invasively = data_dict.loc[data_dict[\"invasively\"].tolist(), \"Variable Name\"].tolist()\n",
    "features_non_invasively = data_dict.loc[data_dict[\"non_invasively\"].tolist(), \"Variable Name\"].tolist()"
   ]
  },
  {
   "cell_type": "markdown",
   "id": "green-supervision",
   "metadata": {},
   "source": [
    "## Creating new features"
   ]
  },
  {
   "cell_type": "code",
   "execution_count": null,
   "id": "ignored-minimum",
   "metadata": {},
   "outputs": [],
   "source": [
    "train_test[\"exams_24h\"] = train_test.loc[:, features_24h].notna().sum(axis=1)\n",
    "train_test[\"exams_1h\"] = train_test.loc[:, features_1h].notna().sum(axis=1)\n",
    "train_test[\"exams_apache\"] = train_test.loc[:, features_apache].notna().sum(axis=1)\n",
    "train_test[\"exams_vitals\"] = train_test.loc[:, features_vitals].notna().sum(axis=1)\n",
    "train_test[\"exams_labs\"] = train_test.loc[:, features_labs].notna().sum(axis=1)\n",
    "train_test[\"exams_labs_blood_gas\"] = train_test.loc[:, features_labs_blood_gas].notna().sum(axis=1)\n",
    "train_test[\"comorbidity\"] = train_test.loc[:, features_comorbidity].sum(axis=1)\n",
    "train_test[\"oxygen\"] = train_test.loc[:, features_oxygen].notna().sum(axis=1)\n",
    "train_test[\"invasively\"] = train_test.loc[:, features_invasively].notna().sum(axis=1)\n",
    "train_test[\"non_invasively\"] = train_test.loc[:, features_non_invasively].notna().sum(axis=1)\n",
    "train_test[\"exams_total\"] = train_test.loc[:, np.concatenate([features_apache, features_vitals, features_labs, features_labs_blood_gas])].notna().sum(axis=1)"
   ]
  },
  {
   "cell_type": "code",
   "execution_count": null,
   "id": "searching-designer",
   "metadata": {},
   "outputs": [],
   "source": [
    "train_new = train_test.head(n_train)\n",
    "test_new = train_test.tail(n_test)\n",
    "\n",
    "data_dict = {\"train\": train_new, \"test\": test_new}"
   ]
  },
  {
   "cell_type": "code",
   "execution_count": null,
   "id": "stainless-democrat",
   "metadata": {},
   "outputs": [],
   "source": [
    "with open(\"../data/data_fe.pkl\", \"wb\") as f:\n",
    "    pickle.dump(data_dict, f)"
   ]
  }
 ],
 "metadata": {
  "kernelspec": {
   "display_name": "Python [conda env:wids2021] *",
   "language": "python",
   "name": "conda-env-wids2021-py"
  },
  "language_info": {
   "codemirror_mode": {
    "name": "ipython",
    "version": 3
   },
   "file_extension": ".py",
   "mimetype": "text/x-python",
   "name": "python",
   "nbconvert_exporter": "python",
   "pygments_lexer": "ipython3",
   "version": "3.7.9"
  }
 },
 "nbformat": 4,
 "nbformat_minor": 5
}
