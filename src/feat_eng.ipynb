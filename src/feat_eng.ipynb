{
 "cells": [
  {
   "cell_type": "code",
   "execution_count": null,
   "id": "infinite-flesh",
   "metadata": {},
   "outputs": [],
   "source": [
    "import pandas as pd\n",
    "import numpy as np\n",
    "from scipy import special\n",
    "import re\n",
    "import pickle"
   ]
  },
  {
   "cell_type": "code",
   "execution_count": null,
   "id": "beneficial-azerbaijan",
   "metadata": {},
   "outputs": [],
   "source": [
    "train = pd.read_csv(\"../data/TrainingWiDS2021.csv\", index_col=0)\n",
    "test = pd.read_csv(\"../data/UnlabeledWiDS2021.csv\", index_col=0)\n",
    "data_dict = pd.read_csv(\"../data/DataDictionaryWiDS2021.csv\")\n",
    "\n",
    "n_train = train.shape[0]\n",
    "n_test = test.shape[0]\n",
    "\n",
    "train_test = pd.concat([train, test], axis=0)"
   ]
  },
  {
   "cell_type": "markdown",
   "id": "tutorial-healthcare",
   "metadata": {},
   "source": [
    "## Exporting columns of exams"
   ]
  },
  {
   "cell_type": "code",
   "execution_count": null,
   "id": "about-basketball",
   "metadata": {},
   "outputs": [],
   "source": [
    "features_apache = data_dict.loc[data_dict[\"Category\"] == \"APACHE covariate\", \"Variable Name\"].tolist()\n",
    "features_vitals = data_dict.loc[data_dict[\"Category\"] == \"vitals\", \"Variable Name\"].tolist()\n",
    "features_labs = data_dict.loc[data_dict[\"Category\"] == \"labs\", \"Variable Name\"].tolist()\n",
    "features_labs_blood_gas = data_dict.loc[data_dict[\"Category\"] == \"labs blood gas\", \"Variable Name\"].tolist()\n",
    "\n",
    "features_all_exams = np.concatenate([features_apache, features_vitals, features_labs, features_labs_blood_gas])\n",
    "\n",
    "# with open(\"../data/exam_cols.pkl\", \"wb\") as f:\n",
    "#     pickle.dump(features_all_exams, f)"
   ]
  },
  {
   "cell_type": "markdown",
   "id": "boolean-cradle",
   "metadata": {},
   "source": [
    "## Correction age 0"
   ]
  },
  {
   "cell_type": "code",
   "execution_count": null,
   "id": "stone-highland",
   "metadata": {
    "tags": []
   },
   "outputs": [],
   "source": [
    "train.loc[train.age == 0, 'age'] = np.nan"
   ]
  },
  {
   "cell_type": "markdown",
   "id": "thorough-focus",
   "metadata": {},
   "source": [
    "## Creating new features"
   ]
  },
  {
   "cell_type": "markdown",
   "id": "brave-things",
   "metadata": {},
   "source": [
    "### Range e normalized values of min_max features"
   ]
  },
  {
   "cell_type": "code",
   "execution_count": null,
   "id": "accepted-associate",
   "metadata": {},
   "outputs": [],
   "source": [
    "features_minmax = [re.sub(\"_max$\", \"\", x) for x in train_test.columns.tolist() if bool(re.search(\"_max$\", x))]"
   ]
  },
  {
   "cell_type": "code",
   "execution_count": null,
   "id": "christian-brick",
   "metadata": {},
   "outputs": [],
   "source": [
    "for col in features_minmax:\n",
    "    train_test[col + \"_range\"] = train_test.loc[:, col + \"_max\"] - train_test.loc[:, col + \"_min\"]\n",
    "    train_test[col + \"_norm\"] = train_test[col + \"_range\"] / train_test.loc[:, col + \"_max\"]"
   ]
  },
  {
   "cell_type": "markdown",
   "id": "talented-governor",
   "metadata": {},
   "source": [
    "### Convert apache to string and split in main and sub diagnostics"
   ]
  },
  {
   "cell_type": "code",
   "execution_count": null,
   "id": "floral-shell",
   "metadata": {},
   "outputs": [],
   "source": [
    "train_test['apache_3j_diagnosis_main'] = train_test['apache_3j_diagnosis'].astype('str').str.split('.',n=1,expand=True)[0]\n",
    "train_test['apache_2_diagnosis_main'] = train_test['apache_2_diagnosis'].astype('str').str.split('.',n=1,expand=True)[0]\n",
    "\n",
    "train_test['apache_3j_diagnosis_sub'] = np.where(train_test['apache_3j_diagnosis'].isna(), np.nan, train_test['apache_3j_diagnosis'].astype('str').str.split('.',n=1,expand=True)[1])\n",
    "train_test['apache_2_diagnosis_sub'] = np.where(train_test['apache_2_diagnosis'].isna(), np.nan, train_test['apache_2_diagnosis'].apply(lambda x : x % 10))"
   ]
  },
  {
   "cell_type": "code",
   "execution_count": null,
   "id": "disturbed-presence",
   "metadata": {},
   "outputs": [],
   "source": [
    "train_test['gcs_sum'] = train_test['gcs_eyes_apache'] + train_test['gcs_motor_apache'] + train_test['gcs_verbal_apache']\n",
    "train_test['gcs_sum'] = train_test['gcs_sum'].fillna(0)\n",
    "\n",
    "train_test['gcs_sum_type'] = train_test.gcs_sum.fillna(0).apply(lambda x: 2.5 * (round(int(x)/2.5))).divide(2.5)"
   ]
  },
  {
   "cell_type": "markdown",
   "id": "sharing-carpet",
   "metadata": {},
   "source": [
    "### Variables based on counting of icu_id and age"
   ]
  },
  {
   "cell_type": "code",
   "execution_count": null,
   "id": "agreed-vector",
   "metadata": {},
   "outputs": [],
   "source": [
    "agg = train_test.loc[:, 'icu_id'].value_counts().to_dict()\n",
    "train_test['icu_id_counts'] = np.log1p(train_test['icu_id'].map(agg))\n",
    "\n",
    "agg = train_test.loc[:, \"age\"].value_counts().to_dict()\n",
    "train_test['age_counts'] = np.log1p(train_test['age'].map(agg))"
   ]
  },
  {
   "cell_type": "markdown",
   "id": "indie-happiness",
   "metadata": {},
   "source": [
    "### Relation between age, bmi and weight"
   ]
  },
  {
   "cell_type": "code",
   "execution_count": null,
   "id": "sustainable-ability",
   "metadata": {},
   "outputs": [],
   "source": [
    "train_test['age_bmi'] = train_test['age'] / train_test['bmi']\n",
    "train_test['weight_age'] = train_test['weight'] / train_test['age']"
   ]
  },
  {
   "cell_type": "markdown",
   "id": "minor-affiliation",
   "metadata": {},
   "source": [
    "### Linear transformation of pre_icu_los_days by logistic function"
   ]
  },
  {
   "cell_type": "code",
   "execution_count": null,
   "id": "supreme-champagne",
   "metadata": {},
   "outputs": [],
   "source": [
    "# special.explicit: logistic function\n",
    "train_test['pre_icu_los_days'] = train_test['pre_icu_los_days'].apply(lambda x:special.expit(x))"
   ]
  },
  {
   "cell_type": "markdown",
   "id": "military-mouth",
   "metadata": {},
   "source": [
    "### Difference between given bmi and calculated bmi"
   ]
  },
  {
   "cell_type": "code",
   "execution_count": null,
   "id": "tight-coaching",
   "metadata": {},
   "outputs": [],
   "source": [
    "train_test[\"diff_bmi\"] = train_test.loc[:, 'bmi']\n",
    "train_test['bmi'] = train_test['weight'] / (train_test['height'] / 100)**2\n",
    "train_test[\"diff_bmi\"] = train_test[\"diff_bmi\"] - train_test['bmi']"
   ]
  },
  {
   "cell_type": "code",
   "execution_count": null,
   "id": "advanced-encyclopedia",
   "metadata": {},
   "outputs": [],
   "source": [
    "# d_cols = [c for c in train_test.columns if(c.startswith(\"d1\"))]\n",
    "# h_cols = [c for c in train_test.columns if(c.startswith(\"h1\"))]\n",
    "# train_test[\"dailyLabs_row_nan_count\"] = train_test[d_cols].isna().sum(axis=1)\n",
    "# train_test[\"hourlyLabs_row_nan_count\"] = train_test[h_cols].isna().sum(axis=1)\n",
    "# train_test[\"diff_labTestsRun_daily_hourly\"] = train_test[\"dailyLabs_row_nan_count\"] - train_test[\"hourlyLabs_row_nan_count\"]\n",
    "# test[\"dailyLabs_row_nan_count\"] = test[d_cols].isna().sum(axis=1)\n",
    "# test[\"hourlyLabs_row_nan_count\"] = test[h_cols].isna().sum(axis=1)\n",
    "# test[\"diff_labTestsRun_daily_hourly\"] = test[\"dailyLabs_row_nan_count\"] - test[\"hourlyLabs_row_nan_count\"]"
   ]
  },
  {
   "cell_type": "code",
   "execution_count": null,
   "id": "complimentary-logic",
   "metadata": {},
   "outputs": [],
   "source": [
    "lab_col = [c for c in train.columns if((c.startswith(\"h1\")) | (c.startswith(\"d1\")))]\n",
    "lab_col_names = list(set(list(map(lambda i: i[ 3 : -4], lab_col))))\n",
    "\n",
    "print(\"len lab_col\",len(lab_col))\n",
    "print(\"len lab_col_names\",len(lab_col_names))\n",
    "print(\"lab_col_names\\n\",lab_col_names)"
   ]
  },
  {
   "cell_type": "code",
   "execution_count": null,
   "id": "attended-grounds",
   "metadata": {},
   "outputs": [],
   "source": [
    "# first_h = []\n",
    "# for v in lab_col_names:\n",
    "#     first_h.append(v+\"_started_after_firstHour\")\n",
    "#     colsx = [x for x in test.columns if v in x]\n",
    "#     train_test[v+\"_nans\"] = train_test.loc[:, colsx].isna().sum(axis=1)\n",
    "#     test[v+\"_nans\"] = test.loc[:, colsx].isna().sum(axis=1)\n",
    "#     train_test[v+\"_d1_value_range\"] = train_test[f\"d1_{v}_max\"].subtract(train_test[f\"d1_{v}_min\"])    \n",
    "#     train_test[v+\"_h1_value_range\"] = train_test[f\"h1_{v}_max\"].subtract(train_test[f\"h1_{v}_min\"])\n",
    "#     train_test[v+\"_d1_h1_max_eq\"] = (train_test[f\"d1_{v}_max\"]== train_test[f\"h1_{v}_max\"]).astype(np.int8)\n",
    "#     train_test[v+\"_d1_h1_min_eq\"] = (train_test[f\"d1_{v}_min\"]== train_test[f\"h1_{v}_min\"]).astype(np.int8)\n",
    "#     train_test[v+\"_d1_zero_range\"] = (train_test[v+\"_d1_value_range\"] == 0).astype(np.int8)\n",
    "#     train_test[v+\"_h1_zero_range\"] =(train_test[v+\"_h1_value_range\"] == 0).astype(np.int8)\n",
    "#     train_test[v+\"_tot_change_value_range_normed\"] = abs((train_test[v+\"_d1_value_range\"].div(train_test[v+\"_h1_value_range\"])))#.div(df[f\"d1_{v}_max\"]))\n",
    "#     train_test[v+\"_started_after_firstHour\"] = ((train_test[f\"h1_{v}_max\"].isna()) & (train_test[f\"h1_{v}_min\"].isna())) & (~train_test[f\"d1_{v}_max\"].isna())\n",
    "#     train_test[v+\"_day_more_extreme\"] = ((train_test[f\"d1_{v}_max\"]>train_test[f\"h1_{v}_max\"]) | (train_test[f\"d1_{v}_min\"]<train_test[f\"h1_{v}_min\"]))\n",
    "#     train_test[v+\"_day_more_extreme\"].fillna(False)\n",
    "\n",
    "# train_test[\"total_Tests_started_After_firstHour\"] = train_test[first_h].sum(axis=1)"
   ]
  },
  {
   "cell_type": "markdown",
   "id": "harmful-tuning",
   "metadata": {},
   "source": [
    "### Create categories for height, weight, age and bmi"
   ]
  },
  {
   "cell_type": "code",
   "execution_count": null,
   "id": "protective-bubble",
   "metadata": {},
   "outputs": [],
   "source": [
    "train_test['height_type'] = train_test.height.fillna(0).apply(lambda x: 5 * (round(int(x)/5)))\n",
    "train_test['weight_type'] = train_test.weight.fillna(0).apply(lambda x: 5 * (round(int(x)/5)))\n",
    "train_test['age_type'] = train_test.age.fillna(0).apply(lambda x: 10 * (round(int(x)/10)))\n",
    "train_test['bmi_type'] = train_test.bmi.fillna(0).apply(lambda x: 5 * (round(int(x)/5)))"
   ]
  },
  {
   "cell_type": "markdown",
   "id": "confident-peeing",
   "metadata": {},
   "source": [
    "### Create differences in exams grouped by diagnostics and profile"
   ]
  },
  {
   "cell_type": "code",
   "execution_count": null,
   "id": "liquid-constant",
   "metadata": {},
   "outputs": [],
   "source": [
    "IDENTIFYING_COLS = ['age_type', 'height_type',  'ethnicity', 'gender', 'bmi_type'] \n",
    "train_test['profile'] = train_test[IDENTIFYING_COLS].apply(lambda x: hash(tuple(x)), axis = 1)\n",
    "\n",
    "print(f'Number of unique Profiles : {train_test[\"profile\"].nunique()}')"
   ]
  },
  {
   "cell_type": "code",
   "execution_count": null,
   "id": "dangerous-acrobat",
   "metadata": {},
   "outputs": [],
   "source": [
    "groupers = ['apache_3j_diagnosis', 'profile']\n",
    "\n",
    "for g in groupers:      \n",
    "    for v in lab_col_names:\n",
    "        temp = train_test[[f\"d1_{v}_max\",g]].groupby(g)[f\"d1_{v}_max\"].mean().to_dict()\n",
    "        train_test[f'mean_diff_d1_{v}_{g}_max'] = train_test[f\"d1_{v}_max\"]-train_test[g].map(temp)\n",
    "\n",
    "        temp = train_test[[f\"d1_{v}_min\",g]].groupby(g)[f\"d1_{v}_min\"].mean().to_dict()   \n",
    "        train_test[f'mean_diff_d1_{v}_{g}_min'] = train_test[f\"d1_{v}_min\"]-train_test[g].map(temp)\n",
    "        \n",
    "        temp = train_test[[f\"h1_{v}_max\",g]].groupby(g)[f\"h1_{v}_max\"].mean().to_dict()   \n",
    "        train_test[f'mean_diff_h1_{v}_{g}_max'] = train_test[f\"h1_{v}_max\"]-train_test[g].map(temp)\n",
    "        \n",
    "        temp = train_test[[f\"h1_{v}_min\",g]].groupby(g)[f\"h1_{v}_min\"].mean().to_dict()   \n",
    "        train_test[f'mean_diff_h1_{v}_{g}_min'] = train_test[f\"h1_{v}_min\"]-train_test[g].map(temp)"
   ]
  },
  {
   "cell_type": "code",
   "execution_count": null,
   "id": "controlled-equivalent",
   "metadata": {},
   "outputs": [],
   "source": [
    "# train_test['diasbp_indicator'] = (\n",
    "# (train_test['d1_diasbp_invasive_max'] == train_test['d1_diasbp_max']) & (train_test['d1_diasbp_noninvasive_max']==train_test['d1_diasbp_invasive_max'])|\n",
    "# (train_test['d1_diasbp_invasive_min'] == train_test['d1_diasbp_min']) & (train_test['d1_diasbp_noninvasive_min']==train_test['d1_diasbp_invasive_min'])|\n",
    "# (train_test['h1_diasbp_invasive_max'] == train_test['h1_diasbp_max']) & (train_test['h1_diasbp_noninvasive_max']==train_test['h1_diasbp_invasive_max'])|\n",
    "# (train_test['h1_diasbp_invasive_min'] == train_test['h1_diasbp_min']) & (train_test['h1_diasbp_noninvasive_min']==train_test['h1_diasbp_invasive_min'])\n",
    "# ).astype(np.int8)\n",
    "\n",
    "\n",
    "# train_test['mbp_indicator'] = (\n",
    "# (train_test['d1_mbp_invasive_max'] == train_test['d1_mbp_max']) & (train_test['d1_mbp_noninvasive_max']==train_test['d1_mbp_invasive_max'])|\n",
    "# (train_test['d1_mbp_invasive_min'] == train_test['d1_mbp_min']) & (train_test['d1_mbp_noninvasive_min']==train_test['d1_mbp_invasive_min'])|\n",
    "# (train_test['h1_mbp_invasive_max'] == train_test['h1_mbp_max']) & (train_test['h1_mbp_noninvasive_max']==train_test['h1_mbp_invasive_max'])|\n",
    "# (train_test['h1_mbp_invasive_min'] == train_test['h1_mbp_min']) & (train_test['h1_mbp_noninvasive_min']==train_test['h1_mbp_invasive_min'])\n",
    "# ).astype(np.int8)\n",
    "\n",
    "# train_test['sysbp_indicator'] = (\n",
    "# (train_test['d1_sysbp_invasive_max'] == train_test['d1_sysbp_max']) & (train_test['d1_sysbp_noninvasive_max']==train_test['d1_sysbp_invasive_max'])|\n",
    "# (train_test['d1_sysbp_invasive_min'] == train_test['d1_sysbp_min']) & (train_test['d1_sysbp_noninvasive_min']==train_test['d1_sysbp_invasive_min'])|\n",
    "#  (train_test['h1_sysbp_invasive_max'] == train_test['h1_sysbp_max']) & (train_test['h1_sysbp_noninvasive_max']==train_test['h1_sysbp_invasive_max'])|\n",
    "# (train_test['h1_sysbp_invasive_min'] == train_test['h1_sysbp_min']) & (train_test['h1_sysbp_noninvasive_min']==train_test['h1_sysbp_invasive_min'])   \n",
    "# ).astype(np.int8)\n",
    "\n",
    "# train_test['d1_mbp_invnoninv_max_diff'] = train_test['d1_mbp_invasive_max'] - train_test['d1_mbp_noninvasive_max']\n",
    "# train_test['h1_mbp_invnoninv_max_diff'] = train_test['h1_mbp_invasive_max'] - train_test['h1_mbp_noninvasive_max']\n",
    "# train_test['d1_mbp_invnoninv_min_diff'] = train_test['d1_mbp_invasive_min'] - train_test['d1_mbp_noninvasive_min']\n",
    "# train_test['h1_mbp_invnoninv_min_diff'] = train_test['h1_mbp_invasive_min'] - train_test['h1_mbp_noninvasive_min']\n",
    "# train_test['d1_diasbp_invnoninv_max_diff'] = train_test['d1_diasbp_invasive_max'] - train_test['d1_diasbp_noninvasive_max']\n",
    "# train_test['h1_diasbp_invnoninv_max_diff'] = train_test['h1_diasbp_invasive_max'] - train_test['h1_diasbp_noninvasive_max']\n",
    "# train_test['d1_diasbp_invnoninv_min_diff'] = train_test['d1_diasbp_invasive_min'] - train_test['d1_diasbp_noninvasive_min']\n",
    "# train_test['h1_diasbp_invnoninv_min_diff'] = train_test['h1_diasbp_invasive_min'] - train_test['h1_diasbp_noninvasive_min']\n",
    "# train_test['d1_sysbp_invnoninv_max_diff'] = train_test['d1_sysbp_invasive_max'] - train_test['d1_sysbp_noninvasive_max']\n",
    "# train_test['h1_sysbp_invnoninv_max_diff'] = train_test['h1_sysbp_invasive_max'] - train_test['h1_sysbp_noninvasive_max']\n",
    "# train_test['d1_sysbp_invnoninv_min_diff'] = train_test['d1_sysbp_invasive_min'] - train_test['d1_sysbp_noninvasive_min']\n",
    "# train_test['h1_sysbp_invnoninv_min_diff'] = train_test['h1_sysbp_invasive_min'] - train_test['h1_sysbp_noninvasive_min']\n",
    "\n",
    "# for v in ['albumin','bilirubin','bun','glucose','hematocrit','pao2fio2ratio','arterial_ph','resprate','sodium','temp','wbc','creatinine']:\n",
    "#     train_test[f'{v}_indicator'] = (((train_test[f'{v}_apache']==train_test[f'd1_{v}_max']) & (train_test[f'd1_{v}_max']==train_test[f'h1_{v}_max'])) |\n",
    "#                  ((train_test[f'{v}_apache']==train_test[f'd1_{v}_max']) & (train_test[f'd1_{v}_max']==train_test[f'd1_{v}_min'])) |\n",
    "#                  ((train_test[f'{v}_apache']==train_test[f'd1_{v}_max']) & (train_test[f'd1_{v}_max']==train_test[f'h1_{v}_min'])) |\n",
    "#                  ((train_test[f'{v}_apache']==train_test[f'h1_{v}_max']) & (train_test[f'h1_{v}_max']==train_test[f'd1_{v}_max'])) |\n",
    "#                  ((train_test[f'{v}_apache']==train_test[f'h1_{v}_max']) & (train_test[f'h1_{v}_max']==train_test[f'h1_{v}_min'])) |\n",
    "#                  ((train_test[f'{v}_apache']==train_test[f'h1_{v}_max']) & (train_test[f'h1_{v}_max']==train_test[f'd1_{v}_min'])) |\n",
    "#                  ((train_test[f'{v}_apache']==train_test[f'd1_{v}_min']) & (train_test[f'd1_{v}_min']==train_test[f'd1_{v}_max'])) |\n",
    "#                  ((train_test[f'{v}_apache']==train_test[f'd1_{v}_min']) & (train_test[f'd1_{v}_min']==train_test[f'h1_{v}_min'])) |\n",
    "#                  ((train_test[f'{v}_apache']==train_test[f'd1_{v}_min']) & (train_test[f'd1_{v}_min']==train_test[f'h1_{v}_max'])) |\n",
    "#                  ((train_test[f'{v}_apache']==train_test[f'h1_{v}_min']) & (train_test[f'h1_{v}_min']==train_test[f'h1_{v}_max'])) |\n",
    "#                  ((train_test[f'{v}_apache']==train_test[f'h1_{v}_min']) & (train_test[f'h1_{v}_min']==train_test[f'd1_{v}_min'])) |\n",
    "#                  ((train_test[f'{v}_apache']==train_test[f'h1_{v}_min']) & (train_test[f'h1_{v}_min']==train_test[f'd1_{v}_max'])) \n",
    "#                 ).astype(np.int8)"
   ]
  },
  {
   "cell_type": "code",
   "execution_count": null,
   "id": "confused-addiction",
   "metadata": {},
   "outputs": [],
   "source": [
    "# more_extreme_cols = [c for c in train_test.columns if(c.endswith(\"_day_more_extreme\"))]\n",
    "# train_test[\"total_day_more_extreme\"] = train_test[more_extreme_cols].sum(axis=1)\n",
    "\n",
    "# train_test[\"d1_resprate_div_mbp_min\"] = train_test[\"d1_resprate_min\"].div(train_test[\"d1_mbp_min\"])\n",
    "# train_test[\"d1_resprate_div_sysbp_min\"] = train_test[\"d1_resprate_min\"].div(train_test[\"d1_sysbp_min\"])\n",
    "# train_test[\"d1_lactate_min_div_diasbp_min\"] = train_test[\"d1_lactate_min\"].div(train_test[\"d1_diasbp_min\"])\n",
    "# train_test[\"d1_heartrate_min_div_d1_sysbp_min\"] = train_test[\"d1_heartrate_min\"].div(train_test[\"d1_sysbp_min\"])\n",
    "# train_test[\"d1_hco3_div\"]= train_test[\"d1_hco3_max\"].div(train_test[\"d1_hco3_min\"])\n",
    "# train_test[\"d1_resprate_times_resprate\"] = train_test[\"d1_resprate_min\"].multiply(train_test[\"d1_resprate_max\"])\n",
    "# train_test[\"left_average_spo2\"] = (2*train_test[\"d1_spo2_max\"] + train_test[\"d1_spo2_min\"])/3\n",
    "\n",
    "# train_test[\"total_chronic\"] = train_test[[\"aids\",\"cirrhosis\", 'hepatic_failure']].sum(axis=1)\n",
    "# train_test[\"total_cancer_immuno\"] = train_test[[ 'immunosuppression', 'leukemia', 'lymphoma', 'solid_tumor_with_metastasis']].sum(axis=1)\n",
    "\n",
    "# train_test[\"has_complicator\"] = train_test[[\"aids\",\"cirrhosis\", 'hepatic_failure',\n",
    "#                             'immunosuppression', 'leukemia', 'lymphoma', 'solid_tumor_with_metastasis']].max(axis=1)"
   ]
  },
  {
   "cell_type": "markdown",
   "id": "billion-import",
   "metadata": {},
   "source": [
    "## Spliting data and saving"
   ]
  },
  {
   "cell_type": "code",
   "execution_count": null,
   "id": "experimental-contributor",
   "metadata": {},
   "outputs": [],
   "source": [
    "train_new = train_test.head(n_train)\n",
    "test_new = train_test.tail(n_test).drop(\"diabetes_mellitus\", axis=1)\n",
    "\n",
    "data_dict = {\"train\": train_new, \"test\": test_new}\n",
    "\n",
    "with open(\"../data/data_fe.pkl\", \"wb\") as f:\n",
    "    pickle.dump(data_dict, f)"
   ]
  }
 ],
 "metadata": {
  "kernelspec": {
   "display_name": "Python [conda env:wids2021] *",
   "language": "python",
   "name": "conda-env-wids2021-py"
  },
  "language_info": {
   "codemirror_mode": {
    "name": "ipython",
    "version": 3
   },
   "file_extension": ".py",
   "mimetype": "text/x-python",
   "name": "python",
   "nbconvert_exporter": "python",
   "pygments_lexer": "ipython3",
   "version": "3.7.9"
  }
 },
 "nbformat": 4,
 "nbformat_minor": 5
}
