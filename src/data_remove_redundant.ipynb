{
 "cells": [
  {
   "cell_type": "code",
   "execution_count": null,
   "id": "employed-craft",
   "metadata": {},
   "outputs": [],
   "source": [
    "import cudf\n",
    "import pandas as pd\n",
    "import numpy as np\n",
    "import pickle\n",
    "from preprocessing_tools import drop_missing_train_test, get_top_abs_correlations, encoder_train_test"
   ]
  },
  {
   "cell_type": "code",
   "execution_count": null,
   "id": "static-scout",
   "metadata": {},
   "outputs": [],
   "source": [
    "train = pd.read_csv(\"../data/TrainingWiDS2021.csv\", index_col=0)\n",
    "test = pd.read_csv(\"../data/UnlabeledWiDS2021.csv\", index_col=0)"
   ]
  },
  {
   "cell_type": "markdown",
   "id": "unnecessary-baseball",
   "metadata": {},
   "source": [
    "## Split data in covariables and response"
   ]
  },
  {
   "cell_type": "code",
   "execution_count": null,
   "id": "electrical-unemployment",
   "metadata": {},
   "outputs": [],
   "source": [
    "RESPONSE_COL = \"diabetes_mellitus\"\n",
    "DROP_X_COLS = [\"readmission_status\", \"encounter_id\"]\n",
    "\n",
    "x_train_val = train.copy().drop(np.append(DROP_X_COLS, RESPONSE_COL), axis=1)\n",
    "y_train_val = train.loc[:, RESPONSE_COL]\n",
    "\n",
    "x_test = test.copy().drop(DROP_X_COLS, axis=1)"
   ]
  },
  {
   "cell_type": "markdown",
   "id": "massive-lucas",
   "metadata": {},
   "source": [
    "## Drop missing"
   ]
  },
  {
   "cell_type": "code",
   "execution_count": null,
   "id": "fancy-unemployment",
   "metadata": {},
   "outputs": [],
   "source": [
    "MISSING_TRESH = 0.5\n",
    "\n",
    "x_train_val, x_test = drop_missing_train_test(x_train_val, x_test, treshold=MISSING_TRESH)"
   ]
  },
  {
   "cell_type": "markdown",
   "id": "joined-oakland",
   "metadata": {},
   "source": [
    "## Preprocess covariables"
   ]
  },
  {
   "cell_type": "code",
   "execution_count": null,
   "id": "critical-manchester",
   "metadata": {},
   "outputs": [],
   "source": [
    "num_cols = x_train_val.columns[x_train_val.dtypes != \"object\"].values\n",
    "cat_cols = x_train_val.columns[x_train_val.dtypes == \"object\"].values\n",
    "\n",
    "x_num_train_val = x_train_val[num_cols]\n",
    "x_cat_train_val = x_train_val[cat_cols]\n",
    "\n",
    "x_num_test = x_test[num_cols]\n",
    "x_cat_test = x_test[cat_cols]"
   ]
  },
  {
   "cell_type": "markdown",
   "id": "southeast-tourist",
   "metadata": {},
   "source": [
    "### Removing correlated features"
   ]
  },
  {
   "cell_type": "code",
   "execution_count": null,
   "id": "orange-association",
   "metadata": {},
   "outputs": [],
   "source": [
    "CORR_TRESH = 0.8\n",
    "\n",
    "x_num_inputed = x_num_train_val.fillna(x_num_train_val.mean())\n",
    "\n",
    "corr_info = get_top_abs_correlations(x_num_inputed, n=10000000)\n",
    "corr_selected = corr_info[corr_info[\"corr_abs\"] >= CORR_TRESH]"
   ]
  },
  {
   "cell_type": "code",
   "execution_count": null,
   "id": "revolutionary-feature",
   "metadata": {},
   "outputs": [],
   "source": [
    "to_drop = list(set(corr_selected[\"level_1\"].tolist()))\n",
    "\n",
    "x_num_train_val = x_num_train_val.drop(to_drop, axis=1)\n",
    "x_test = x_test.drop(to_drop, axis=1)"
   ]
  },
  {
   "cell_type": "markdown",
   "id": "short-retirement",
   "metadata": {},
   "source": [
    "## Encoding categorical"
   ]
  },
  {
   "cell_type": "code",
   "execution_count": null,
   "id": "failing-rescue",
   "metadata": {},
   "outputs": [],
   "source": [
    "%%time\n",
    "x_train_le, x_test_le, string_cols_le = encoder_train_test(x_cat_train_val, x_test)\n",
    "x_train_le = x_train_le.to_pandas()\n",
    "x_test_le = x_test_le.to_pandas()"
   ]
  },
  {
   "cell_type": "code",
   "execution_count": null,
   "id": "sporting-advertising",
   "metadata": {},
   "outputs": [],
   "source": [
    "x_train_val = pd.concat([x_num_train_val, x_train_le], axis=1)\n",
    "x_test_le = x_test_le[x_train_val.columns.tolist()] "
   ]
  },
  {
   "cell_type": "code",
   "execution_count": null,
   "id": "formed-isolation",
   "metadata": {},
   "outputs": [],
   "source": [
    "data_clean = {\"x_train\": x_train_val, \"y_train\": y_train_val, \"x_test\": x_test_le}"
   ]
  },
  {
   "cell_type": "code",
   "execution_count": null,
   "id": "similar-decrease",
   "metadata": {},
   "outputs": [],
   "source": [
    "with open(\"../data/data_remove_redudant.pkl\", \"wb\") as f:\n",
    "    pickle.dump(data_clean, f)"
   ]
  }
 ],
 "metadata": {
  "kernelspec": {
   "display_name": "Python [conda env:wids2021] *",
   "language": "python",
   "name": "conda-env-wids2021-py"
  },
  "language_info": {
   "codemirror_mode": {
    "name": "ipython",
    "version": 3
   },
   "file_extension": ".py",
   "mimetype": "text/x-python",
   "name": "python",
   "nbconvert_exporter": "python",
   "pygments_lexer": "ipython3",
   "version": "3.7.9"
  }
 },
 "nbformat": 4,
 "nbformat_minor": 5
}